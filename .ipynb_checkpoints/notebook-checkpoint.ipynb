{
 "cells": [
  {
   "cell_type": "code",
   "execution_count": 2,
   "id": "d665e1fe",
   "metadata": {},
   "outputs": [],
   "source": [
    "import pandas as pd"
   ]
  },
  {
   "cell_type": "code",
   "execution_count": 3,
   "id": "03e12714",
   "metadata": {},
   "outputs": [
    {
     "ename": "FileNotFoundError",
     "evalue": "[Errno 2] No such file or directory: 'total-distribution-by-product-2022.csv'",
     "output_type": "error",
     "traceback": [
      "\u001b[0;31m---------------------------------------------------------------------------\u001b[0m",
      "\u001b[0;31mFileNotFoundError\u001b[0m                         Traceback (most recent call last)",
      "Input \u001b[0;32mIn [3]\u001b[0m, in \u001b[0;36m<cell line: 2>\u001b[0;34m()\u001b[0m\n\u001b[1;32m      1\u001b[0m \u001b[38;5;124;03m\"\"\"Total data downloads by product and distribution mechanism in 2022\"\"\"\u001b[39;00m\n\u001b[0;32m----> 2\u001b[0m df_2022\u001b[38;5;241m=\u001b[39m \u001b[43mpd\u001b[49m\u001b[38;5;241;43m.\u001b[39;49m\u001b[43mread_csv\u001b[49m\u001b[43m(\u001b[49m\u001b[38;5;124;43m\"\u001b[39;49m\u001b[38;5;124;43mtotal-distribution-by-product-2022.csv\u001b[39;49m\u001b[38;5;124;43m\"\u001b[39;49m\u001b[43m,\u001b[49m\u001b[43mencoding_errors\u001b[49m\u001b[38;5;241;43m=\u001b[39;49m\u001b[38;5;124;43m\"\u001b[39;49m\u001b[38;5;124;43mignore\u001b[39;49m\u001b[38;5;124;43m\"\u001b[39;49m\u001b[43m)\u001b[49m\n",
      "File \u001b[0;32m~/opt/anaconda3/lib/python3.9/site-packages/pandas/util/_decorators.py:311\u001b[0m, in \u001b[0;36mdeprecate_nonkeyword_arguments.<locals>.decorate.<locals>.wrapper\u001b[0;34m(*args, **kwargs)\u001b[0m\n\u001b[1;32m    305\u001b[0m \u001b[38;5;28;01mif\u001b[39;00m \u001b[38;5;28mlen\u001b[39m(args) \u001b[38;5;241m>\u001b[39m num_allow_args:\n\u001b[1;32m    306\u001b[0m     warnings\u001b[38;5;241m.\u001b[39mwarn(\n\u001b[1;32m    307\u001b[0m         msg\u001b[38;5;241m.\u001b[39mformat(arguments\u001b[38;5;241m=\u001b[39marguments),\n\u001b[1;32m    308\u001b[0m         \u001b[38;5;167;01mFutureWarning\u001b[39;00m,\n\u001b[1;32m    309\u001b[0m         stacklevel\u001b[38;5;241m=\u001b[39mstacklevel,\n\u001b[1;32m    310\u001b[0m     )\n\u001b[0;32m--> 311\u001b[0m \u001b[38;5;28;01mreturn\u001b[39;00m \u001b[43mfunc\u001b[49m\u001b[43m(\u001b[49m\u001b[38;5;241;43m*\u001b[39;49m\u001b[43margs\u001b[49m\u001b[43m,\u001b[49m\u001b[43m \u001b[49m\u001b[38;5;241;43m*\u001b[39;49m\u001b[38;5;241;43m*\u001b[39;49m\u001b[43mkwargs\u001b[49m\u001b[43m)\u001b[49m\n",
      "File \u001b[0;32m~/opt/anaconda3/lib/python3.9/site-packages/pandas/io/parsers/readers.py:680\u001b[0m, in \u001b[0;36mread_csv\u001b[0;34m(filepath_or_buffer, sep, delimiter, header, names, index_col, usecols, squeeze, prefix, mangle_dupe_cols, dtype, engine, converters, true_values, false_values, skipinitialspace, skiprows, skipfooter, nrows, na_values, keep_default_na, na_filter, verbose, skip_blank_lines, parse_dates, infer_datetime_format, keep_date_col, date_parser, dayfirst, cache_dates, iterator, chunksize, compression, thousands, decimal, lineterminator, quotechar, quoting, doublequote, escapechar, comment, encoding, encoding_errors, dialect, error_bad_lines, warn_bad_lines, on_bad_lines, delim_whitespace, low_memory, memory_map, float_precision, storage_options)\u001b[0m\n\u001b[1;32m    665\u001b[0m kwds_defaults \u001b[38;5;241m=\u001b[39m _refine_defaults_read(\n\u001b[1;32m    666\u001b[0m     dialect,\n\u001b[1;32m    667\u001b[0m     delimiter,\n\u001b[0;32m   (...)\u001b[0m\n\u001b[1;32m    676\u001b[0m     defaults\u001b[38;5;241m=\u001b[39m{\u001b[38;5;124m\"\u001b[39m\u001b[38;5;124mdelimiter\u001b[39m\u001b[38;5;124m\"\u001b[39m: \u001b[38;5;124m\"\u001b[39m\u001b[38;5;124m,\u001b[39m\u001b[38;5;124m\"\u001b[39m},\n\u001b[1;32m    677\u001b[0m )\n\u001b[1;32m    678\u001b[0m kwds\u001b[38;5;241m.\u001b[39mupdate(kwds_defaults)\n\u001b[0;32m--> 680\u001b[0m \u001b[38;5;28;01mreturn\u001b[39;00m \u001b[43m_read\u001b[49m\u001b[43m(\u001b[49m\u001b[43mfilepath_or_buffer\u001b[49m\u001b[43m,\u001b[49m\u001b[43m \u001b[49m\u001b[43mkwds\u001b[49m\u001b[43m)\u001b[49m\n",
      "File \u001b[0;32m~/opt/anaconda3/lib/python3.9/site-packages/pandas/io/parsers/readers.py:575\u001b[0m, in \u001b[0;36m_read\u001b[0;34m(filepath_or_buffer, kwds)\u001b[0m\n\u001b[1;32m    572\u001b[0m _validate_names(kwds\u001b[38;5;241m.\u001b[39mget(\u001b[38;5;124m\"\u001b[39m\u001b[38;5;124mnames\u001b[39m\u001b[38;5;124m\"\u001b[39m, \u001b[38;5;28;01mNone\u001b[39;00m))\n\u001b[1;32m    574\u001b[0m \u001b[38;5;66;03m# Create the parser.\u001b[39;00m\n\u001b[0;32m--> 575\u001b[0m parser \u001b[38;5;241m=\u001b[39m \u001b[43mTextFileReader\u001b[49m\u001b[43m(\u001b[49m\u001b[43mfilepath_or_buffer\u001b[49m\u001b[43m,\u001b[49m\u001b[43m \u001b[49m\u001b[38;5;241;43m*\u001b[39;49m\u001b[38;5;241;43m*\u001b[39;49m\u001b[43mkwds\u001b[49m\u001b[43m)\u001b[49m\n\u001b[1;32m    577\u001b[0m \u001b[38;5;28;01mif\u001b[39;00m chunksize \u001b[38;5;129;01mor\u001b[39;00m iterator:\n\u001b[1;32m    578\u001b[0m     \u001b[38;5;28;01mreturn\u001b[39;00m parser\n",
      "File \u001b[0;32m~/opt/anaconda3/lib/python3.9/site-packages/pandas/io/parsers/readers.py:933\u001b[0m, in \u001b[0;36mTextFileReader.__init__\u001b[0;34m(self, f, engine, **kwds)\u001b[0m\n\u001b[1;32m    930\u001b[0m     \u001b[38;5;28mself\u001b[39m\u001b[38;5;241m.\u001b[39moptions[\u001b[38;5;124m\"\u001b[39m\u001b[38;5;124mhas_index_names\u001b[39m\u001b[38;5;124m\"\u001b[39m] \u001b[38;5;241m=\u001b[39m kwds[\u001b[38;5;124m\"\u001b[39m\u001b[38;5;124mhas_index_names\u001b[39m\u001b[38;5;124m\"\u001b[39m]\n\u001b[1;32m    932\u001b[0m \u001b[38;5;28mself\u001b[39m\u001b[38;5;241m.\u001b[39mhandles: IOHandles \u001b[38;5;241m|\u001b[39m \u001b[38;5;28;01mNone\u001b[39;00m \u001b[38;5;241m=\u001b[39m \u001b[38;5;28;01mNone\u001b[39;00m\n\u001b[0;32m--> 933\u001b[0m \u001b[38;5;28mself\u001b[39m\u001b[38;5;241m.\u001b[39m_engine \u001b[38;5;241m=\u001b[39m \u001b[38;5;28;43mself\u001b[39;49m\u001b[38;5;241;43m.\u001b[39;49m\u001b[43m_make_engine\u001b[49m\u001b[43m(\u001b[49m\u001b[43mf\u001b[49m\u001b[43m,\u001b[49m\u001b[43m \u001b[49m\u001b[38;5;28;43mself\u001b[39;49m\u001b[38;5;241;43m.\u001b[39;49m\u001b[43mengine\u001b[49m\u001b[43m)\u001b[49m\n",
      "File \u001b[0;32m~/opt/anaconda3/lib/python3.9/site-packages/pandas/io/parsers/readers.py:1217\u001b[0m, in \u001b[0;36mTextFileReader._make_engine\u001b[0;34m(self, f, engine)\u001b[0m\n\u001b[1;32m   1213\u001b[0m     mode \u001b[38;5;241m=\u001b[39m \u001b[38;5;124m\"\u001b[39m\u001b[38;5;124mrb\u001b[39m\u001b[38;5;124m\"\u001b[39m\n\u001b[1;32m   1214\u001b[0m \u001b[38;5;66;03m# error: No overload variant of \"get_handle\" matches argument types\u001b[39;00m\n\u001b[1;32m   1215\u001b[0m \u001b[38;5;66;03m# \"Union[str, PathLike[str], ReadCsvBuffer[bytes], ReadCsvBuffer[str]]\"\u001b[39;00m\n\u001b[1;32m   1216\u001b[0m \u001b[38;5;66;03m# , \"str\", \"bool\", \"Any\", \"Any\", \"Any\", \"Any\", \"Any\"\u001b[39;00m\n\u001b[0;32m-> 1217\u001b[0m \u001b[38;5;28mself\u001b[39m\u001b[38;5;241m.\u001b[39mhandles \u001b[38;5;241m=\u001b[39m \u001b[43mget_handle\u001b[49m\u001b[43m(\u001b[49m\u001b[43m  \u001b[49m\u001b[38;5;66;43;03m# type: ignore[call-overload]\u001b[39;49;00m\n\u001b[1;32m   1218\u001b[0m \u001b[43m    \u001b[49m\u001b[43mf\u001b[49m\u001b[43m,\u001b[49m\n\u001b[1;32m   1219\u001b[0m \u001b[43m    \u001b[49m\u001b[43mmode\u001b[49m\u001b[43m,\u001b[49m\n\u001b[1;32m   1220\u001b[0m \u001b[43m    \u001b[49m\u001b[43mencoding\u001b[49m\u001b[38;5;241;43m=\u001b[39;49m\u001b[38;5;28;43mself\u001b[39;49m\u001b[38;5;241;43m.\u001b[39;49m\u001b[43moptions\u001b[49m\u001b[38;5;241;43m.\u001b[39;49m\u001b[43mget\u001b[49m\u001b[43m(\u001b[49m\u001b[38;5;124;43m\"\u001b[39;49m\u001b[38;5;124;43mencoding\u001b[39;49m\u001b[38;5;124;43m\"\u001b[39;49m\u001b[43m,\u001b[49m\u001b[43m \u001b[49m\u001b[38;5;28;43;01mNone\u001b[39;49;00m\u001b[43m)\u001b[49m\u001b[43m,\u001b[49m\n\u001b[1;32m   1221\u001b[0m \u001b[43m    \u001b[49m\u001b[43mcompression\u001b[49m\u001b[38;5;241;43m=\u001b[39;49m\u001b[38;5;28;43mself\u001b[39;49m\u001b[38;5;241;43m.\u001b[39;49m\u001b[43moptions\u001b[49m\u001b[38;5;241;43m.\u001b[39;49m\u001b[43mget\u001b[49m\u001b[43m(\u001b[49m\u001b[38;5;124;43m\"\u001b[39;49m\u001b[38;5;124;43mcompression\u001b[39;49m\u001b[38;5;124;43m\"\u001b[39;49m\u001b[43m,\u001b[49m\u001b[43m \u001b[49m\u001b[38;5;28;43;01mNone\u001b[39;49;00m\u001b[43m)\u001b[49m\u001b[43m,\u001b[49m\n\u001b[1;32m   1222\u001b[0m \u001b[43m    \u001b[49m\u001b[43mmemory_map\u001b[49m\u001b[38;5;241;43m=\u001b[39;49m\u001b[38;5;28;43mself\u001b[39;49m\u001b[38;5;241;43m.\u001b[39;49m\u001b[43moptions\u001b[49m\u001b[38;5;241;43m.\u001b[39;49m\u001b[43mget\u001b[49m\u001b[43m(\u001b[49m\u001b[38;5;124;43m\"\u001b[39;49m\u001b[38;5;124;43mmemory_map\u001b[39;49m\u001b[38;5;124;43m\"\u001b[39;49m\u001b[43m,\u001b[49m\u001b[43m \u001b[49m\u001b[38;5;28;43;01mFalse\u001b[39;49;00m\u001b[43m)\u001b[49m\u001b[43m,\u001b[49m\n\u001b[1;32m   1223\u001b[0m \u001b[43m    \u001b[49m\u001b[43mis_text\u001b[49m\u001b[38;5;241;43m=\u001b[39;49m\u001b[43mis_text\u001b[49m\u001b[43m,\u001b[49m\n\u001b[1;32m   1224\u001b[0m \u001b[43m    \u001b[49m\u001b[43merrors\u001b[49m\u001b[38;5;241;43m=\u001b[39;49m\u001b[38;5;28;43mself\u001b[39;49m\u001b[38;5;241;43m.\u001b[39;49m\u001b[43moptions\u001b[49m\u001b[38;5;241;43m.\u001b[39;49m\u001b[43mget\u001b[49m\u001b[43m(\u001b[49m\u001b[38;5;124;43m\"\u001b[39;49m\u001b[38;5;124;43mencoding_errors\u001b[39;49m\u001b[38;5;124;43m\"\u001b[39;49m\u001b[43m,\u001b[49m\u001b[43m \u001b[49m\u001b[38;5;124;43m\"\u001b[39;49m\u001b[38;5;124;43mstrict\u001b[39;49m\u001b[38;5;124;43m\"\u001b[39;49m\u001b[43m)\u001b[49m\u001b[43m,\u001b[49m\n\u001b[1;32m   1225\u001b[0m \u001b[43m    \u001b[49m\u001b[43mstorage_options\u001b[49m\u001b[38;5;241;43m=\u001b[39;49m\u001b[38;5;28;43mself\u001b[39;49m\u001b[38;5;241;43m.\u001b[39;49m\u001b[43moptions\u001b[49m\u001b[38;5;241;43m.\u001b[39;49m\u001b[43mget\u001b[49m\u001b[43m(\u001b[49m\u001b[38;5;124;43m\"\u001b[39;49m\u001b[38;5;124;43mstorage_options\u001b[39;49m\u001b[38;5;124;43m\"\u001b[39;49m\u001b[43m,\u001b[49m\u001b[43m \u001b[49m\u001b[38;5;28;43;01mNone\u001b[39;49;00m\u001b[43m)\u001b[49m\u001b[43m,\u001b[49m\n\u001b[1;32m   1226\u001b[0m \u001b[43m\u001b[49m\u001b[43m)\u001b[49m\n\u001b[1;32m   1227\u001b[0m \u001b[38;5;28;01massert\u001b[39;00m \u001b[38;5;28mself\u001b[39m\u001b[38;5;241m.\u001b[39mhandles \u001b[38;5;129;01mis\u001b[39;00m \u001b[38;5;129;01mnot\u001b[39;00m \u001b[38;5;28;01mNone\u001b[39;00m\n\u001b[1;32m   1228\u001b[0m f \u001b[38;5;241m=\u001b[39m \u001b[38;5;28mself\u001b[39m\u001b[38;5;241m.\u001b[39mhandles\u001b[38;5;241m.\u001b[39mhandle\n",
      "File \u001b[0;32m~/opt/anaconda3/lib/python3.9/site-packages/pandas/io/common.py:789\u001b[0m, in \u001b[0;36mget_handle\u001b[0;34m(path_or_buf, mode, encoding, compression, memory_map, is_text, errors, storage_options)\u001b[0m\n\u001b[1;32m    784\u001b[0m \u001b[38;5;28;01melif\u001b[39;00m \u001b[38;5;28misinstance\u001b[39m(handle, \u001b[38;5;28mstr\u001b[39m):\n\u001b[1;32m    785\u001b[0m     \u001b[38;5;66;03m# Check whether the filename is to be opened in binary mode.\u001b[39;00m\n\u001b[1;32m    786\u001b[0m     \u001b[38;5;66;03m# Binary mode does not support 'encoding' and 'newline'.\u001b[39;00m\n\u001b[1;32m    787\u001b[0m     \u001b[38;5;28;01mif\u001b[39;00m ioargs\u001b[38;5;241m.\u001b[39mencoding \u001b[38;5;129;01mand\u001b[39;00m \u001b[38;5;124m\"\u001b[39m\u001b[38;5;124mb\u001b[39m\u001b[38;5;124m\"\u001b[39m \u001b[38;5;129;01mnot\u001b[39;00m \u001b[38;5;129;01min\u001b[39;00m ioargs\u001b[38;5;241m.\u001b[39mmode:\n\u001b[1;32m    788\u001b[0m         \u001b[38;5;66;03m# Encoding\u001b[39;00m\n\u001b[0;32m--> 789\u001b[0m         handle \u001b[38;5;241m=\u001b[39m \u001b[38;5;28;43mopen\u001b[39;49m\u001b[43m(\u001b[49m\n\u001b[1;32m    790\u001b[0m \u001b[43m            \u001b[49m\u001b[43mhandle\u001b[49m\u001b[43m,\u001b[49m\n\u001b[1;32m    791\u001b[0m \u001b[43m            \u001b[49m\u001b[43mioargs\u001b[49m\u001b[38;5;241;43m.\u001b[39;49m\u001b[43mmode\u001b[49m\u001b[43m,\u001b[49m\n\u001b[1;32m    792\u001b[0m \u001b[43m            \u001b[49m\u001b[43mencoding\u001b[49m\u001b[38;5;241;43m=\u001b[39;49m\u001b[43mioargs\u001b[49m\u001b[38;5;241;43m.\u001b[39;49m\u001b[43mencoding\u001b[49m\u001b[43m,\u001b[49m\n\u001b[1;32m    793\u001b[0m \u001b[43m            \u001b[49m\u001b[43merrors\u001b[49m\u001b[38;5;241;43m=\u001b[39;49m\u001b[43merrors\u001b[49m\u001b[43m,\u001b[49m\n\u001b[1;32m    794\u001b[0m \u001b[43m            \u001b[49m\u001b[43mnewline\u001b[49m\u001b[38;5;241;43m=\u001b[39;49m\u001b[38;5;124;43m\"\u001b[39;49m\u001b[38;5;124;43m\"\u001b[39;49m\u001b[43m,\u001b[49m\n\u001b[1;32m    795\u001b[0m \u001b[43m        \u001b[49m\u001b[43m)\u001b[49m\n\u001b[1;32m    796\u001b[0m     \u001b[38;5;28;01melse\u001b[39;00m:\n\u001b[1;32m    797\u001b[0m         \u001b[38;5;66;03m# Binary mode\u001b[39;00m\n\u001b[1;32m    798\u001b[0m         handle \u001b[38;5;241m=\u001b[39m \u001b[38;5;28mopen\u001b[39m(handle, ioargs\u001b[38;5;241m.\u001b[39mmode)\n",
      "\u001b[0;31mFileNotFoundError\u001b[0m: [Errno 2] No such file or directory: 'total-distribution-by-product-2022.csv'"
     ]
    }
   ],
   "source": [
    "\"\"\"Total data downloads by product and distribution mechanism in 2022\"\"\"\n",
    "df_2022= pd.read_csv(\"total-distribution-by-product-2022.csv\",encoding_errors=\"ignore\")"
   ]
  },
  {
   "cell_type": "markdown",
   "id": "80284672",
   "metadata": {},
   "source": [
    "##  What were the most popular data download mechanisms by volume in 2022?\n",
    "\n"
   ]
  },
  {
   "cell_type": "markdown",
   "id": "1c283145",
   "metadata": {},
   "source": [
    "- HTTPAURA, OPSDATAPOOL, HTTPDICS, QUICK, PROD were some popular data sources in 2022"
   ]
  },
  {
   "cell_type": "code",
   "execution_count": 3,
   "id": "64798059",
   "metadata": {},
   "outputs": [],
   "source": [
    "df_2022[\"MBs\"]=df_2022[\"MBs\"].apply(lambda x: str(x).replace(\",\",\"\"))\n",
    "df_2022[\"Files\"]=df_2022[\"Files\"].apply(lambda x: str(x).replace(\",\",\"\"))\n",
    "df_2022[\"MBs\"]=df_2022[\"MBs\"].astype(float)\n",
    "df_2022[\"Files\"]=df_2022[\"Files\"].astype(float)\n",
    "df_2022[\"name\"]= df_2022[\"Filetype\"] + \"-\"+ df_2022[\"Product\"]\n",
    "df_22=df_2022.groupby(\"Datasource\").agg(downloads = (\"Product\",\"count\"),\n",
    "                                 products= (\"Product\", \"nunique\"),\n",
    "                                 UserTypes =(\"Usertype\",\"nunique\"),\n",
    "                                 volumeGB=(\"MBs\",\"sum\"),\n",
    "                                 files =(\"Files\",\"sum\"))\n",
    "df_22[\"dl_per_product\"]= df_22['downloads']/df_22['products']\n",
    "df_22[\"volumeGB\"]= df_22[\"volumeGB\"]*0.001\n",
    "tp_10=df_22.sort_values(by=[\"volumeGB\",\"downloads\",\"products\",\"dl_per_product\",\"UserTypes\",\"files\"],ascending=False)[:10]"
   ]
  },
  {
   "cell_type": "code",
   "execution_count": 4,
   "id": "99a9f250",
   "metadata": {},
   "outputs": [],
   "source": [
    "df_2022[\"name\"]= df_2022[\"Filetype\"] + \"-\"+ df_2022[\"Product\"]"
   ]
  },
  {
   "cell_type": "code",
   "execution_count": 5,
   "id": "7efbe8b5",
   "metadata": {},
   "outputs": [
    {
     "data": {
      "text/plain": [
       "array(['DISTCUSTOM-A2_DYSNO_NRT', 'DISTCUSTOM-AU_DYSNO_NRT_R02',\n",
       "       'DISTCUSTOM-AU_LAND_NRT_R02', ..., 'DISTOPENDAP-107688',\n",
       "       'DISTOPENDAP-107690', 'DISTOPENDAP-107692'], dtype=object)"
      ]
     },
     "execution_count": 5,
     "metadata": {},
     "output_type": "execute_result"
    }
   ],
   "source": [
    "df_2022.name.unique()"
   ]
  },
  {
   "cell_type": "code",
   "execution_count": 6,
   "id": "4ea8a88f",
   "metadata": {},
   "outputs": [
    {
     "data": {
      "image/png": "[encoded data removed]",
      "text/plain": [
       "<Figure size 864x360 with 1 Axes>"
      ]
     },
     "metadata": {
      "needs_background": "light"
     },
     "output_type": "display_data"
    },
    {
     "data": {
      "image/png": "[encoded data removed]",
      "text/plain": [
       "<Figure size 864x360 with 1 Axes>"
      ]
     },
     "metadata": {
      "needs_background": "light"
     },
     "output_type": "display_data"
    }
   ],
   "source": [
    "tp_10.plot( y=[\"downloads\", \"products\"], kind=\"bar\",figsize=(12,5), title=\"Datasource vs downloads and products\")\n",
    "tp_10.plot( y=[\"volumeGB\"], kind=\"bar\",figsize=(12,5),title=\"Datasource vs volume and files\")\n",
    "plt.show()"
   ]
  },
  {
   "cell_type": "markdown",
   "id": "5396cb80",
   "metadata": {},
   "source": []
  },
  {
   "cell_type": "code",
   "execution_count": 92,
   "id": "ac58d5a3",
   "metadata": {
    "scrolled": true
   },
   "outputs": [],
   "source": [
    "df_user=pd.read_csv(\"URSDistByUsername.csv\",encoding_errors='ignore')\n",
    "df_user[\"domain\"]=df_user['Email'].str.split('@').str[1]\n",
    "df_user['Username'] = df_user['Username'].apply(lambda x: hashlib.sha256(x.encode()).hexdigest())\n",
    "df_user['Email'] = df_user['Email'].apply(lambda x: hashlib.sha256(x.encode()).hexdigest())\n",
    "df_user[\"MBs\"]=df_user[\"MBs\"].apply(lambda x: str(x).replace(\",\",\"\"))\n",
    "df_user[\"Files\"]=df_user[\"Files\"].apply(lambda x: str(x).replace(\",\",\"\"))\n",
    "df_user[\"MBs\"]=df_user[\"MBs\"].astype(float)\n",
    "df_user[\"Files\"]=df_user[\"Files\"].astype(float)"
   ]
  },
  {
   "cell_type": "markdown",
   "id": "e29c2a16",
   "metadata": {},
   "source": [
    "## How many users account for the top 95% of data downloads?"
   ]
  },
  {
   "cell_type": "markdown",
   "id": "20057f1b",
   "metadata": {},
   "source": [
    "- About 8% of the users account for 95% of the downloads"
   ]
  },
  {
   "cell_type": "code",
   "execution_count": 8,
   "id": "04319081",
   "metadata": {},
   "outputs": [
    {
     "data": {
      "text/plain": [
       "0.08230155904212884"
      ]
     },
     "execution_count": 8,
     "metadata": {},
     "output_type": "execute_result"
    }
   ],
   "source": [
    "df_user.query(f\"MBs > {df_user.MBs.quantile(0.95)}\").Email.nunique()/(df_user.Email.nunique())"
   ]
  },
  {
   "cell_type": "markdown",
   "id": "a57b7728",
   "metadata": {},
   "source": [
    "## Who are the top 1000 users in terms of product usage?"
   ]
  },
  {
   "cell_type": "code",
   "execution_count": 95,
   "id": "017aa0f2",
   "metadata": {},
   "outputs": [
    {
     "data": {
      "text/plain": [
       "Index(['faeefff82ebe6884ee8eee36b1c14ac3a16bb736741b387806c7e597e10ff2e6',\n",
       "       '08abbe39765d68c0625b58461313e471506b716ee1445cd4957a20d70aabea3b',\n",
       "       '0b77c6f30406abb1d51bc0363a13bbd4c1ba9d25a206140c6612a37d05c7b786',\n",
       "       '322715b2517ad987fc89a67ce2d19960149388ab4e8ddaba16b0ae88289798c0',\n",
       "       '1bc71e4026d845bf19dcc63f17253cd273955461d11f468f7946d6d7827b98f6',\n",
       "       'f949b80260dc7a4a07610db32d431de314fec985dea17bf47cfe3dd746951057',\n",
       "       'cc930f6d435acd1a7d5818cf2f73b80c60b49043ae368ba4a1bc39fcd6466321',\n",
       "       '16cce71a2eab172554495a534ce3950655647a3870b764bfea0932b04ad74296',\n",
       "       '3cefeb7954a42bc73a0079f795f2832f8df9af09e16a18bbb6c00c458bc842ab',\n",
       "       'bca62c53e80b015dc9001b7b9b1eb45e87e8ac9920665a0079d9ab76e1e434a3',\n",
       "       ...\n",
       "       '02e9dc817c9733abd33fbcc6e8d9a2111aca2bb8a1596ef2ccbed42c7e7c8213',\n",
       "       'b6f67df1d7b20d0e0fd364d0053edf0dc730b39427877ae995db3e776de8807d',\n",
       "       'c302700d9ddba633d8b61dc6ca2d1f456e940e2de9eb10aab15f5683bcaa2879',\n",
       "       'd111ede91ee4d33998dbd91bf322ba45226bf8c2726e75d88a3dc9c9bd1012b7',\n",
       "       '1dd07c0563435c66c369cf8c3343059ae2549671aa4693fad642d9165f9d9f69',\n",
       "       '0b8679573a03e9886212616d56a121d1dd0b6b59516a69975e4d785396d22829',\n",
       "       '090cc33fff692bf166d293ddbe88e11d7550d19f8b70594007a0927a4f308a2f',\n",
       "       '64bd1bc3b50176fd48fbf89faf0e6f024f091fe6208d18e90dcfad84110177ae',\n",
       "       'cdec992c56908f4d6b16ad37be5b22633e4c433e1d4a11184b4e7935904e97dd',\n",
       "       '981910fe33329c1d03203f3147c0be84d0481908678e366cc599ff3ac7eb1a2d'],\n",
       "      dtype='object', name='Email', length=1000)"
      ]
     },
     "execution_count": 95,
     "metadata": {},
     "output_type": "execute_result"
    }
   ],
   "source": [
    "tp_user=df_user.groupby(\"Email\").agg(no_of_prod =(\"Product\",\"nunique\"),\n",
    "                      product_list =(\"Product\", lambda x: list(set(x))),\n",
    "                      affiliation =(\"Affiliation\",\"first\"),\n",
    "                      volumeMB=(\"MBs\",\"sum\"),\n",
    "                      volumeFiles=(\"Files\",\"sum\")).sort_values(by=[\"volumeMB\",],ascending=False)\n",
    "tp_user.index[:1000]\n"
   ]
  },
  {
   "cell_type": "code",
   "execution_count": 98,
   "id": "ba87f92c",
   "metadata": {},
   "outputs": [],
   "source": [
    "dm=df_user.groupby(\"domain\").agg(no_of_prod =(\"Product\",\"nunique\"),\n",
    "                      product_list =(\"Product\", lambda x: list(set(x))),\n",
    "                      affiliation =(\"Affiliation\",\"first\"),\n",
    "                      volumeMB=(\"MBs\",\"sum\"),\n",
    "                      volumeFiles=(\"Files\",\"sum\")).sort_values(by=[\"volumeMB\",],ascending=False)"
   ]
  },
  {
   "cell_type": "markdown",
   "id": "72150794",
   "metadata": {},
   "source": [
    "## What is the top 10 domain as per volume"
   ]
  },
  {
   "cell_type": "code",
   "execution_count": 112,
   "id": "8b58862f",
   "metadata": {},
   "outputs": [
    {
     "data": {
      "image/png": "[encoded data removed]",
      "text/plain": [
       "<Figure size 864x360 with 1 Axes>"
      ]
     },
     "metadata": {
      "needs_background": "light"
     },
     "output_type": "display_data"
    },
    {
     "data": {
      "image/png": "[encoded data removed]",
      "text/plain": [
       "<Figure size 864x360 with 1 Axes>"
      ]
     },
     "metadata": {
      "needs_background": "light"
     },
     "output_type": "display_data"
    }
   ],
   "source": [
    "dm[:10].plot(kind=\"bar\",y=[\"volumeMB\"],figsize=(12,5), title=\"Domains vs volume\")\n",
    "dm[:10].plot(kind=\"bar\",y=[\"no_of_prod\"],figsize=(12,5), title=\"Domains vs number of products\")\n",
    "plt.show()"
   ]
  },
  {
   "cell_type": "markdown",
   "id": "74a68651",
   "metadata": {},
   "source": [
    "## Where do most of the top 1000 users live?"
   ]
  },
  {
   "cell_type": "code",
   "execution_count": 107,
   "id": "ea79740a",
   "metadata": {},
   "outputs": [],
   "source": [
    "top_users_country=tp_user[:1000].merge(df_user[[\"Email\",\"Country\",\"Product\",\"MBs\"]], how=\"inner\",on=\"Email\").groupby(\"Country\").agg(\n",
    "            users = (\"Email\",\"nunique\"), downloads =(\"Product\",\"count\"),volumeMB=(\"MBs\",\"sum\"),\n",
    "            unique_products=(\"Product\",\"nunique\")).sort_values(by=[\"volumeMB\",\"users\",\"downloads\",\"unique_products\"],ascending=False)"
   ]
  },
  {
   "cell_type": "code",
   "execution_count": 109,
   "id": "e364bf63",
   "metadata": {},
   "outputs": [
    {
     "data": {
      "image/png": "[encoded data removed]",
      "text/plain": [
       "<Figure size 864x360 with 1 Axes>"
      ]
     },
     "metadata": {
      "needs_background": "light"
     },
     "output_type": "display_data"
    }
   ],
   "source": [
    "top_users_country[:5][\"volumeMB\"].plot(kind=\"bar\", title=\"Country wise distribution of top 1000 users\", figsize=(12,5))\n",
    "plt.show()"
   ]
  },
  {
   "cell_type": "code",
   "execution_count": 111,
   "id": "febb03bb",
   "metadata": {},
   "outputs": [
    {
     "data": {
      "image/png": "[encoded data removed]",
      "text/plain": [
       "<Figure size 864x360 with 1 Axes>"
      ]
     },
     "metadata": {
      "needs_background": "light"
     },
     "output_type": "display_data"
    }
   ],
   "source": [
    "top_users_country[:5].plot(kind=\"bar\",y=[\"users\",\"downloads\",\"unique_products\"], title=\"Country wise distribution of top 1000 users\", figsize=(12,5))\n",
    "plt.show()"
   ]
  },
  {
   "cell_type": "code",
   "execution_count": 12,
   "id": "4f363f45",
   "metadata": {},
   "outputs": [],
   "source": [
    "df_user_prod = df_user.groupby(\"Product\").agg(users=(\"Email\",\"nunique\"),\n",
    "                                             volume =(\"MBs\",lambda x: sum(x)*0.000001))"
   ]
  },
  {
   "cell_type": "markdown",
   "id": "53b42a94",
   "metadata": {},
   "source": [
    "## Are there any products that have good volume and users"
   ]
  },
  {
   "cell_type": "code",
   "execution_count": 13,
   "id": "e1106070",
   "metadata": {},
   "outputs": [
    {
     "data": {
      "text/html": [
       "<div>\n",
       "<style scoped>\n",
       "    .dataframe tbody tr th:only-of-type {\n",
       "        vertical-align: middle;\n",
       "    }\n",
       "\n",
       "    .dataframe tbody tr th {\n",
       "        vertical-align: top;\n",
       "    }\n",
       "\n",
       "    .dataframe thead th {\n",
       "        text-align: right;\n",
       "    }\n",
       "</style>\n",
       "<table border=\"1\" class=\"dataframe\">\n",
       "  <thead>\n",
       "    <tr style=\"text-align: right;\">\n",
       "      <th></th>\n",
       "      <th>users</th>\n",
       "      <th>volume</th>\n",
       "    </tr>\n",
       "    <tr>\n",
       "      <th>Product</th>\n",
       "      <th></th>\n",
       "      <th></th>\n",
       "    </tr>\n",
       "  </thead>\n",
       "  <tbody>\n",
       "    <tr>\n",
       "      <th>SENTINEL-1A_SLC</th>\n",
       "      <td>19149</td>\n",
       "      <td>33455.139285</td>\n",
       "    </tr>\n",
       "    <tr>\n",
       "      <th>SENTINEL-1B_SLC</th>\n",
       "      <td>6476</td>\n",
       "      <td>12713.497453</td>\n",
       "    </tr>\n",
       "    <tr>\n",
       "      <th>SENTINEL-1A_DP_GRD_HIGH</th>\n",
       "      <td>13644</td>\n",
       "      <td>5672.490927</td>\n",
       "    </tr>\n",
       "    <tr>\n",
       "      <th>MOD03</th>\n",
       "      <td>1432</td>\n",
       "      <td>4797.897246</td>\n",
       "    </tr>\n",
       "    <tr>\n",
       "      <th>MYD03</th>\n",
       "      <td>962</td>\n",
       "      <td>4784.385082</td>\n",
       "    </tr>\n",
       "    <tr>\n",
       "      <th>...</th>\n",
       "      <td>...</td>\n",
       "      <td>...</td>\n",
       "    </tr>\n",
       "    <tr>\n",
       "      <th>OMPS_NPP_LP_L2_O3_DAILY</th>\n",
       "      <td>55</td>\n",
       "      <td>0.211053</td>\n",
       "    </tr>\n",
       "    <tr>\n",
       "      <th>MODISA_L3M_SST4</th>\n",
       "      <td>35</td>\n",
       "      <td>0.208885</td>\n",
       "    </tr>\n",
       "    <tr>\n",
       "      <th>PODAAC-ASOP2-25B01</th>\n",
       "      <td>59</td>\n",
       "      <td>0.208743</td>\n",
       "    </tr>\n",
       "    <tr>\n",
       "      <th>NCEPMETR2</th>\n",
       "      <td>69</td>\n",
       "      <td>0.204404</td>\n",
       "    </tr>\n",
       "    <tr>\n",
       "      <th>ML3DBH2O</th>\n",
       "      <td>44</td>\n",
       "      <td>0.200959</td>\n",
       "    </tr>\n",
       "  </tbody>\n",
       "</table>\n",
       "<p>847 rows × 2 columns</p>\n",
       "</div>"
      ],
      "text/plain": [
       "                         users        volume\n",
       "Product                                     \n",
       "SENTINEL-1A_SLC          19149  33455.139285\n",
       "SENTINEL-1B_SLC           6476  12713.497453\n",
       "SENTINEL-1A_DP_GRD_HIGH  13644   5672.490927\n",
       "MOD03                     1432   4797.897246\n",
       "MYD03                      962   4784.385082\n",
       "...                        ...           ...\n",
       "OMPS_NPP_LP_L2_O3_DAILY     55      0.211053\n",
       "MODISA_L3M_SST4             35      0.208885\n",
       "PODAAC-ASOP2-25B01          59      0.208743\n",
       "NCEPMETR2                   69      0.204404\n",
       "ML3DBH2O                    44      0.200959\n",
       "\n",
       "[847 rows x 2 columns]"
      ]
     },
     "execution_count": 13,
     "metadata": {},
     "output_type": "execute_result"
    }
   ],
   "source": [
    "t=df_user_prod.query(f\"users>{df_user_prod.users.quantile(0.8)} and volume >{df_user_prod.volume.quantile(0.8)}\").sort_values(by=\"volume\",ascending=False)\n",
    "t"
   ]
  },
  {
   "cell_type": "code",
   "execution_count": 14,
   "id": "c8a7666f",
   "metadata": {},
   "outputs": [],
   "source": [
    "t_=df_user_prod.query(f\" volume >{df_user_prod.volume.quantile(0.8)}\").sort_values(by=\"volume\",ascending=False)\n",
    "t_=t_.reset_index()\n"
   ]
  },
  {
   "cell_type": "code",
   "execution_count": 15,
   "id": "0c6b162e",
   "metadata": {},
   "outputs": [],
   "source": [
    "f= pd.read_csv(\"format.csv\")\n",
    "f['Product']=f[\"Product \"]\n",
    "f= f.drop(columns=[\"Remarks\",\"Product \"])\n",
    "ff=pd.merge(f,t_,on=\"Product\",how='left')"
   ]
  },
  {
   "cell_type": "markdown",
   "id": "0ecfe4f8",
   "metadata": {},
   "source": [
    "## What is the format of top 30 products "
   ]
  },
  {
   "cell_type": "code",
   "execution_count": 113,
   "id": "8fbdf22f",
   "metadata": {},
   "outputs": [
    {
     "data": {
      "image/png": "[encoded data removed]",
      "text/plain": [
       "<Figure size 864x360 with 1 Axes>"
      ]
     },
     "metadata": {
      "needs_background": "light"
     },
     "output_type": "display_data"
    }
   ],
   "source": [
    "ff.groupby(\"Format\").agg(no_of_products=(\"Product\",\"count\"),\n",
    "                        users=(\"users\",\"sum\"),\n",
    "                        volume=(\"volume\",\"sum\")).sort_values(by=[\"volume\"]).plot(kind=\"bar\",\n",
    "                            y=[\"volume\",\"users\"],figsize=(12,5), title=\"Data format vs volume of top 30 products\")\n",
    "plt.show()"
   ]
  },
  {
   "cell_type": "code",
   "execution_count": 114,
   "id": "ab10e5b7",
   "metadata": {},
   "outputs": [
    {
     "data": {
      "image/png": "[encoded data removed]",
      "text/plain": [
       "<Figure size 864x360 with 1 Axes>"
      ]
     },
     "metadata": {
      "needs_background": "light"
     },
     "output_type": "display_data"
    }
   ],
   "source": [
    "ff.groupby(\"Format\").agg(no_of_products=(\"Product\",\"count\"),\n",
    "                        users=(\"users\",\"sum\"),\n",
    "                        volume=(\"volume\",\"sum\")).sort_values(by=[\"volume\"]).plot(kind=\"bar\", y=\"no_of_products\",\n",
    "                        figsize=(12,5), title=\"Data format vs no_of_products of top 30 products\")\n",
    "plt.show()"
   ]
  },
  {
   "cell_type": "markdown",
   "id": "d558543b",
   "metadata": {},
   "source": [
    "##  Are there any products that are especially popular in terms of number of users but not in terms of data volume? "
   ]
  },
  {
   "cell_type": "markdown",
   "id": "4b1eabdd",
   "metadata": {},
   "source": [
    "- Yes, there are 94 such products"
   ]
  },
  {
   "cell_type": "code",
   "execution_count": 18,
   "id": "71046064",
   "metadata": {},
   "outputs": [
    {
     "data": {
      "text/html": [
       "<div>\n",
       "<style scoped>\n",
       "    .dataframe tbody tr th:only-of-type {\n",
       "        vertical-align: middle;\n",
       "    }\n",
       "\n",
       "    .dataframe tbody tr th {\n",
       "        vertical-align: top;\n",
       "    }\n",
       "\n",
       "    .dataframe thead th {\n",
       "        text-align: right;\n",
       "    }\n",
       "</style>\n",
       "<table border=\"1\" class=\"dataframe\">\n",
       "  <thead>\n",
       "    <tr style=\"text-align: right;\">\n",
       "      <th></th>\n",
       "      <th>users</th>\n",
       "      <th>volume</th>\n",
       "    </tr>\n",
       "    <tr>\n",
       "      <th>Product</th>\n",
       "      <th></th>\n",
       "      <th></th>\n",
       "    </tr>\n",
       "  </thead>\n",
       "  <tbody>\n",
       "    <tr>\n",
       "      <th>PODAAC-TEMSC-ATS62</th>\n",
       "      <td>431</td>\n",
       "      <td>0.000019</td>\n",
       "    </tr>\n",
       "    <tr>\n",
       "      <th>MOB11A2D</th>\n",
       "      <td>308</td>\n",
       "      <td>0.000035</td>\n",
       "    </tr>\n",
       "    <tr>\n",
       "      <th>PODAAC-TEMSC-GTS62</th>\n",
       "      <td>280</td>\n",
       "      <td>0.000017</td>\n",
       "    </tr>\n",
       "    <tr>\n",
       "      <th>MOB11A1D</th>\n",
       "      <td>269</td>\n",
       "      <td>0.000025</td>\n",
       "    </tr>\n",
       "    <tr>\n",
       "      <th>MCB19A2</th>\n",
       "      <td>243</td>\n",
       "      <td>0.000043</td>\n",
       "    </tr>\n",
       "    <tr>\n",
       "      <th>...</th>\n",
       "      <td>...</td>\n",
       "      <td>...</td>\n",
       "    </tr>\n",
       "    <tr>\n",
       "      <th>NSIDC-0218</th>\n",
       "      <td>31</td>\n",
       "      <td>0.000001</td>\n",
       "    </tr>\n",
       "    <tr>\n",
       "      <th>107384</th>\n",
       "      <td>30</td>\n",
       "      <td>0.000037</td>\n",
       "    </tr>\n",
       "    <tr>\n",
       "      <th>CIESIN:169</th>\n",
       "      <td>30</td>\n",
       "      <td>0.000021</td>\n",
       "    </tr>\n",
       "    <tr>\n",
       "      <th>NSIDC-0372</th>\n",
       "      <td>30</td>\n",
       "      <td>0.000003</td>\n",
       "    </tr>\n",
       "    <tr>\n",
       "      <th>107387</th>\n",
       "      <td>30</td>\n",
       "      <td>0.000031</td>\n",
       "    </tr>\n",
       "  </tbody>\n",
       "</table>\n",
       "<p>94 rows × 2 columns</p>\n",
       "</div>"
      ],
      "text/plain": [
       "                    users    volume\n",
       "Product                            \n",
       "PODAAC-TEMSC-ATS62    431  0.000019\n",
       "MOB11A2D              308  0.000035\n",
       "PODAAC-TEMSC-GTS62    280  0.000017\n",
       "MOB11A1D              269  0.000025\n",
       "MCB19A2               243  0.000043\n",
       "...                   ...       ...\n",
       "NSIDC-0218             31  0.000001\n",
       "107384                 30  0.000037\n",
       "CIESIN:169             30  0.000021\n",
       "NSIDC-0372             30  0.000003\n",
       "107387                 30  0.000031\n",
       "\n",
       "[94 rows x 2 columns]"
      ]
     },
     "execution_count": 18,
     "metadata": {},
     "output_type": "execute_result"
    }
   ],
   "source": [
    "df_user_prod.query(f\"users>{df_user_prod.users.quantile(0.8)} and volume <{df_user_prod.volume.quantile(0.3)}\").sort_values(by=\"users\",ascending=False)"
   ]
  },
  {
   "cell_type": "markdown",
   "id": "ac1c6c16",
   "metadata": {},
   "source": [
    "## Are there any products that are especially popular in terms of volume but not in terms of number of users? "
   ]
  },
  {
   "cell_type": "markdown",
   "id": "f5f85d66",
   "metadata": {},
   "source": [
    "- Yes, there are 130 such products"
   ]
  },
  {
   "cell_type": "code",
   "execution_count": 19,
   "id": "73b6896a",
   "metadata": {},
   "outputs": [
    {
     "data": {
      "text/html": [
       "<div>\n",
       "<style scoped>\n",
       "    .dataframe tbody tr th:only-of-type {\n",
       "        vertical-align: middle;\n",
       "    }\n",
       "\n",
       "    .dataframe tbody tr th {\n",
       "        vertical-align: top;\n",
       "    }\n",
       "\n",
       "    .dataframe thead th {\n",
       "        text-align: right;\n",
       "    }\n",
       "</style>\n",
       "<table border=\"1\" class=\"dataframe\">\n",
       "  <thead>\n",
       "    <tr style=\"text-align: right;\">\n",
       "      <th></th>\n",
       "      <th>users</th>\n",
       "      <th>volume</th>\n",
       "    </tr>\n",
       "    <tr>\n",
       "      <th>Product</th>\n",
       "      <th></th>\n",
       "      <th></th>\n",
       "    </tr>\n",
       "  </thead>\n",
       "  <tbody>\n",
       "    <tr>\n",
       "      <th>CRIS_SCIENCE_GROUPS</th>\n",
       "      <td>1</td>\n",
       "      <td>28.972562</td>\n",
       "    </tr>\n",
       "    <tr>\n",
       "      <th>GFS_SANL</th>\n",
       "      <td>1</td>\n",
       "      <td>26.722454</td>\n",
       "    </tr>\n",
       "    <tr>\n",
       "      <th>SNPPCRISL1A</th>\n",
       "      <td>2</td>\n",
       "      <td>23.196619</td>\n",
       "    </tr>\n",
       "    <tr>\n",
       "      <th>GFS_SGM3PREP</th>\n",
       "      <td>1</td>\n",
       "      <td>11.673203</td>\n",
       "    </tr>\n",
       "    <tr>\n",
       "      <th>GFS_SGESPREP</th>\n",
       "      <td>2</td>\n",
       "      <td>11.530168</td>\n",
       "    </tr>\n",
       "    <tr>\n",
       "      <th>...</th>\n",
       "      <td>...</td>\n",
       "      <td>...</td>\n",
       "    </tr>\n",
       "    <tr>\n",
       "      <th>GEOSIT_AER_T3_L_SLV</th>\n",
       "      <td>2</td>\n",
       "      <td>0.222420</td>\n",
       "    </tr>\n",
       "    <tr>\n",
       "      <th>GEOSIT_MST_T3_C_V72</th>\n",
       "      <td>1</td>\n",
       "      <td>0.218979</td>\n",
       "    </tr>\n",
       "    <tr>\n",
       "      <th>GDAS1_G</th>\n",
       "      <td>2</td>\n",
       "      <td>0.217077</td>\n",
       "    </tr>\n",
       "    <tr>\n",
       "      <th>ML0SCI1_NRT</th>\n",
       "      <td>1</td>\n",
       "      <td>0.212790</td>\n",
       "    </tr>\n",
       "    <tr>\n",
       "      <th>ML0SCI2_NRT</th>\n",
       "      <td>1</td>\n",
       "      <td>0.212780</td>\n",
       "    </tr>\n",
       "  </tbody>\n",
       "</table>\n",
       "<p>130 rows × 2 columns</p>\n",
       "</div>"
      ],
      "text/plain": [
       "                     users     volume\n",
       "Product                              \n",
       "CRIS_SCIENCE_GROUPS      1  28.972562\n",
       "GFS_SANL                 1  26.722454\n",
       "SNPPCRISL1A              2  23.196619\n",
       "GFS_SGM3PREP             1  11.673203\n",
       "GFS_SGESPREP             2  11.530168\n",
       "...                    ...        ...\n",
       "GEOSIT_AER_T3_L_SLV      2   0.222420\n",
       "GEOSIT_MST_T3_C_V72      1   0.218979\n",
       "GDAS1_G                  2   0.217077\n",
       "ML0SCI1_NRT              1   0.212790\n",
       "ML0SCI2_NRT              1   0.212780\n",
       "\n",
       "[130 rows x 2 columns]"
      ]
     },
     "execution_count": 19,
     "metadata": {},
     "output_type": "execute_result"
    }
   ],
   "source": [
    "df_user_prod.query(f\"users<{df_user_prod.users.quantile(0.3)} and volume >{df_user_prod.volume.quantile(0.8)}\").sort_values(by=\"volume\",ascending=False)"
   ]
  },
  {
   "cell_type": "markdown",
   "id": "4b9fbd43",
   "metadata": {},
   "source": [
    "## What is the affiliation of users?"
   ]
  },
  {
   "cell_type": "markdown",
   "id": "32863c71",
   "metadata": {},
   "source": [
    "- Most of them are from Education accounting to 75%"
   ]
  },
  {
   "cell_type": "code",
   "execution_count": 20,
   "id": "acfb9a93",
   "metadata": {},
   "outputs": [],
   "source": [
    "aff=tp_user.reset_index().groupby(\"affiliation\").agg(users = (\"Email\",\"count\"),\n",
    "                no_of_prod =(\"no_of_prod\",\"sum\"))\n",
    "aff[\"user%\"]= aff['users']*100/(aff[\"users\"].sum())\n",
    "aff[\"no_of_prod%\"]= aff['no_of_prod']*100/(aff[\"no_of_prod\"].sum())"
   ]
  },
  {
   "cell_type": "code",
   "execution_count": 21,
   "id": "66586e6f",
   "metadata": {},
   "outputs": [
    {
     "data": {
      "text/html": [
       "<div>\n",
       "<style scoped>\n",
       "    .dataframe tbody tr th:only-of-type {\n",
       "        vertical-align: middle;\n",
       "    }\n",
       "\n",
       "    .dataframe tbody tr th {\n",
       "        vertical-align: top;\n",
       "    }\n",
       "\n",
       "    .dataframe thead th {\n",
       "        text-align: right;\n",
       "    }\n",
       "</style>\n",
       "<table border=\"1\" class=\"dataframe\">\n",
       "  <thead>\n",
       "    <tr style=\"text-align: right;\">\n",
       "      <th></th>\n",
       "      <th>users</th>\n",
       "      <th>no_of_prod</th>\n",
       "      <th>user%</th>\n",
       "      <th>no_of_prod%</th>\n",
       "    </tr>\n",
       "    <tr>\n",
       "      <th>affiliation</th>\n",
       "      <th></th>\n",
       "      <th></th>\n",
       "      <th></th>\n",
       "      <th></th>\n",
       "    </tr>\n",
       "  </thead>\n",
       "  <tbody>\n",
       "    <tr>\n",
       "      <th>Commercial</th>\n",
       "      <td>12925</td>\n",
       "      <td>33597</td>\n",
       "      <td>5.825562</td>\n",
       "      <td>4.888707</td>\n",
       "    </tr>\n",
       "    <tr>\n",
       "      <th>Education</th>\n",
       "      <td>168000</td>\n",
       "      <td>522838</td>\n",
       "      <td>75.721040</td>\n",
       "      <td>76.078267</td>\n",
       "    </tr>\n",
       "    <tr>\n",
       "      <th>Government</th>\n",
       "      <td>14984</td>\n",
       "      <td>58471</td>\n",
       "      <td>6.753596</td>\n",
       "      <td>8.508127</td>\n",
       "    </tr>\n",
       "    <tr>\n",
       "      <th>Non-profit</th>\n",
       "      <td>17637</td>\n",
       "      <td>51222</td>\n",
       "      <td>7.949357</td>\n",
       "      <td>7.453324</td>\n",
       "    </tr>\n",
       "    <tr>\n",
       "      <th>Other</th>\n",
       "      <td>8321</td>\n",
       "      <td>21109</td>\n",
       "      <td>3.750445</td>\n",
       "      <td>3.071575</td>\n",
       "    </tr>\n",
       "  </tbody>\n",
       "</table>\n",
       "</div>"
      ],
      "text/plain": [
       "              users  no_of_prod      user%  no_of_prod%\n",
       "affiliation                                            \n",
       "Commercial    12925       33597   5.825562     4.888707\n",
       "Education    168000      522838  75.721040    76.078267\n",
       "Government    14984       58471   6.753596     8.508127\n",
       "Non-profit    17637       51222   7.949357     7.453324\n",
       "Other          8321       21109   3.750445     3.071575"
      ]
     },
     "execution_count": 21,
     "metadata": {},
     "output_type": "execute_result"
    }
   ],
   "source": [
    "aff"
   ]
  },
  {
   "cell_type": "code",
   "execution_count": 22,
   "id": "f3de6add",
   "metadata": {},
   "outputs": [
    {
     "data": {
      "image/png": "[encoded data removed]",
      "text/plain": [
       "<Figure size 864x360 with 1 Axes>"
      ]
     },
     "metadata": {
      "needs_background": "light"
     },
     "output_type": "display_data"
    }
   ],
   "source": [
    "aff.plot( y=[\"user%\", \"no_of_prod%\"], kind=\"bar\",figsize=(12,5),\n",
    "                                                      title=\"Distribution of User Affiliation\")\n",
    "plt.show()"
   ]
  },
  {
   "cell_type": "code",
   "execution_count": 23,
   "id": "fd14d8dd",
   "metadata": {},
   "outputs": [],
   "source": [
    "df_ar= pd.read_csv(\"archive-size-by-product-totals.csv\",encoding_errors=\"ignore\")\n",
    "df_ar[\"MBs\"]=df_ar[\"MBs\"].apply(lambda x: str(x).replace(\",\",\"\"))\n",
    "df_ar[\"Granules/Files\"]=df_ar[\"Granules/Files\"].apply(lambda x: str(x).replace(\",\",\"\"))\n",
    "df_ar[\"MBs\"]=df_ar[\"MBs\"].astype(float)\n",
    "df_ar[\"Granules/Files\"]=df_ar[\"Granules/Files\"].astype(float)"
   ]
  },
  {
   "cell_type": "markdown",
   "id": "d7fa4713",
   "metadata": {},
   "source": [
    "## What data formats are these datasets distributed in? "
   ]
  },
  {
   "cell_type": "markdown",
   "id": "f33b1bcf",
   "metadata": {},
   "source": [
    "- They are mostly in DISTHTTP, DISTCUSTOM, DISTFTP "
   ]
  },
  {
   "cell_type": "code",
   "execution_count": 24,
   "id": "16bd05f2",
   "metadata": {},
   "outputs": [],
   "source": [
    "df_total=pd.read_csv(\"total-distribution-by-product-2022.csv\")"
   ]
  },
  {
   "cell_type": "code",
   "execution_count": 25,
   "id": "1a36eecf",
   "metadata": {},
   "outputs": [
    {
     "data": {
      "image/png": "[encoded data removed]",
      "text/plain": [
       "<Figure size 864x360 with 1 Axes>"
      ]
     },
     "metadata": {
      "needs_background": "light"
     },
     "output_type": "display_data"
    }
   ],
   "source": [
    "df_total.groupby([\"Filetype\"]).agg(products = (\"Product\",\"count\"),\n",
    "                            unique_products =(\"Product\",\"nunique\")).sort_values(\n",
    "            by=[\"products\",\"unique_products\"],ascending=False)[:10].plot( y=[\"products\", \"unique_products\"],\n",
    "            kind=\"bar\",figsize=(12,5),title=\"Distribution of Data Formats\")\n",
    "plt.show()\n"
   ]
  },
  {
   "cell_type": "code",
   "execution_count": 123,
   "id": "8151fbf2",
   "metadata": {},
   "outputs": [],
   "source": [
    "temp= pd.merge(df_total, df_ar[[\"Level\",\"Product\"]], on=\"Product\", how=\"inner\")"
   ]
  },
  {
   "cell_type": "code",
   "execution_count": 127,
   "id": "ef299703",
   "metadata": {},
   "outputs": [],
   "source": [
    "temp.dtypes\n",
    "temp[\"MBs\"]=temp[\"MBs\"].apply(lambda x: str(x).replace(\",\",\"\"))\n",
    "temp[\"MBs\"]=temp[\"MBs\"].astype(float)"
   ]
  },
  {
   "cell_type": "code",
   "execution_count": 131,
   "id": "eaa541e1",
   "metadata": {},
   "outputs": [],
   "source": [
    "t=temp.groupby([\"Level\"]).agg(\n",
    "                            GBs = (\"MBs\",lambda x: sum(x)*0.001)).sort_values(\n",
    "            by=['GBs'],ascending=False)\n",
    "list0=[\"0\",\"LEVEL 0\"]\n",
    "list1 =[\"1\",\"1B\",\"1BASE\",\"1T\",\"LEVEL 1\",\"LEVEL 1C\",\"LEVEL 1A\",\"LEVEL 1B\",\"1C\",\"1A\"]\n",
    "list2= [\"2\",\"2G\",\"2P\",\"LEVEL 2\",\"2A\",\"LEVEL 2A\",\"2B\",\"LEVEL 2B\",\"2C\",\"|2\",\"L2\"]\n",
    "list3 =[\"L3\",\"3S\",\"3B\",\"3U\",\"3C\",\"LEVEL 3\",\"3\"]\n",
    "list4=[\"LEVEL 4\",\"4\"]\n",
    "t=t.reset_index()\n",
    "t[\"new_level\"]= t[\"Level\"].apply(lambda x: \"1\" if x in list1 else \"0\" if x in list0 else \n",
    "                                          \"2\" if x in list2 else \"3\" if  x in list3 else \"4\" if x in list4 else x )\n"
   ]
  },
  {
   "cell_type": "code",
   "execution_count": 132,
   "id": "f35dae3b",
   "metadata": {},
   "outputs": [],
   "source": [
    "tt= t.groupby(\"new_level\").agg(\n",
    "                            GBs = (\"GBs\",\"sum\"),\n",
    "                           ).sort_values(\n",
    "            by=['GBs'],ascending=False)"
   ]
  },
  {
   "cell_type": "code",
   "execution_count": 134,
   "id": "f5f9cd9d",
   "metadata": {},
   "outputs": [
    {
     "data": {
      "image/png": "[encoded data removed]",
      "text/plain": [
       "<Figure size 864x360 with 1 Axes>"
      ]
     },
     "metadata": {
      "needs_background": "light"
     },
     "output_type": "display_data"
    }
   ],
   "source": [
    "tt.plot( y=[\"GBs\"], kind=\"bar\",title=\"Levels vs Products\", figsize=(12,5))\n",
    "plt.show()"
   ]
  },
  {
   "cell_type": "markdown",
   "id": "f5d656ce",
   "metadata": {},
   "source": [
    "## Archive size and distribution volume by product level (Level 1, Level 2, Level 3, etc.)"
   ]
  },
  {
   "cell_type": "code",
   "execution_count": 26,
   "id": "8b9e1936",
   "metadata": {},
   "outputs": [],
   "source": [
    "tp_10_=df_ar.groupby([\"Level\"]).agg(products = (\"Product\",\"count\"),\n",
    "                            unique_products =(\"Product\",\"nunique\"),\n",
    "                            GBs = (\"MBs\",lambda x: sum(x)*0.001),\n",
    "                            files=(\"Granules/Files\",\"sum\")).sort_values(\n",
    "            by=[\"products\",\"unique_products\",'GBs'],ascending=False)\n",
    "\n",
    "list0=[\"0\",\"LEVEL 0\"]\n",
    "list1 =[\"1\",\"1B\",\"1BASE\",\"1T\",\"LEVEL 1\",\"LEVEL 1C\",\"LEVEL 1A\",\"LEVEL 1B\",\"1C\",\"1A\"]\n",
    "list2= [\"2\",\"2G\",\"2P\",\"LEVEL 2\",\"2A\",\"LEVEL 2A\",\"2B\",\"LEVEL 2B\",\"2C\",\"|2\",\"L2\"]\n",
    "list3 =[\"L3\",\"3S\",\"3B\",\"3U\",\"3C\",\"LEVEL 3\",\"3\"]\n",
    "list4=[\"LEVEL 4\",\"4\"]\n",
    "tp_10_=tp_10_.reset_index()\n",
    "tp_10_[\"new_level\"]= tp_10_[\"Level\"].apply(lambda x: \"1\" if x in list1 else \"0\" if x in list0 else \n",
    "                                          \"2\" if x in list2 else \"3\" if  x in list3 else \"4\" if x in list4 else x )\n",
    "\n",
    "tp_10_= tp_10_.groupby(\"new_level\").agg(products = (\"products\",\"sum\"),\n",
    "                            unique_products =(\"unique_products\",\"sum\"),\n",
    "                            GBs = (\"GBs\",\"sum\"),\n",
    "                            files=(\"files\",\"sum\")).sort_values(\n",
    "            by=['GBs',\"products\",\"unique_products\",],ascending=False)"
   ]
  },
  {
   "cell_type": "code",
   "execution_count": 27,
   "id": "09137276",
   "metadata": {},
   "outputs": [
    {
     "data": {
      "image/png": "[encoded data removed]",
      "text/plain": [
       "<Figure size 864x360 with 1 Axes>"
      ]
     },
     "metadata": {
      "needs_background": "light"
     },
     "output_type": "display_data"
    }
   ],
   "source": [
    "tp_10_.plot( y=[\"products\", \"unique_products\"], kind=\"bar\",title=\"Levels vs Products\", figsize=(12,5))\n",
    "plt.show()"
   ]
  },
  {
   "cell_type": "code",
   "execution_count": 28,
   "id": "d768768d",
   "metadata": {},
   "outputs": [
    {
     "data": {
      "image/png": "[encoded data removed]",
      "text/plain": [
       "<Figure size 864x360 with 1 Axes>"
      ]
     },
     "metadata": {
      "needs_background": "light"
     },
     "output_type": "display_data"
    }
   ],
   "source": [
    "tp_10_.plot( y=[\"GBs\"], kind=\"bar\",title=\"Levels vs Products\", figsize=(12,5))\n",
    "plt.show()"
   ]
  },
  {
   "cell_type": "markdown",
   "id": "9b1cbf01",
   "metadata": {},
   "source": [
    "## Which providers (DAACs) distributed these datasets? "
   ]
  },
  {
   "cell_type": "code",
   "execution_count": 29,
   "id": "20d30231",
   "metadata": {},
   "outputs": [],
   "source": [
    "df_prod = pd.read_csv(\"data-products.csv\",encoding_errors='ignore')"
   ]
  },
  {
   "cell_type": "markdown",
   "id": "18d1d0f7",
   "metadata": {},
   "source": [
    "- one product can have many providers\n",
    "- one provider can have many products\n",
    "- provider, product, mission and instrument make a unique row in data-products.csv : with one exception"
   ]
  },
  {
   "cell_type": "code",
   "execution_count": 30,
   "id": "24ea32c6",
   "metadata": {},
   "outputs": [
    {
     "data": {
      "text/html": [
       "<div>\n",
       "<style scoped>\n",
       "    .dataframe tbody tr th:only-of-type {\n",
       "        vertical-align: middle;\n",
       "    }\n",
       "\n",
       "    .dataframe tbody tr th {\n",
       "        vertical-align: top;\n",
       "    }\n",
       "\n",
       "    .dataframe thead th {\n",
       "        text-align: right;\n",
       "    }\n",
       "</style>\n",
       "<table border=\"1\" class=\"dataframe\">\n",
       "  <thead>\n",
       "    <tr style=\"text-align: right;\">\n",
       "      <th></th>\n",
       "      <th>Provider</th>\n",
       "      <th>Product</th>\n",
       "      <th>LongName</th>\n",
       "      <th>Level</th>\n",
       "      <th>Discipline</th>\n",
       "      <th>ProcessingCenter</th>\n",
       "      <th>Mission</th>\n",
       "      <th>Instrument</th>\n",
       "      <th>PrimaryMission</th>\n",
       "      <th>PrimaryInstrument</th>\n",
       "      <th>EOSFlag</th>\n",
       "      <th>ProductFlag</th>\n",
       "    </tr>\n",
       "  </thead>\n",
       "  <tbody>\n",
       "    <tr>\n",
       "      <th>22630</th>\n",
       "      <td>LARCATLAS</td>\n",
       "      <td>AFWA_NONORDERABLE_1</td>\n",
       "      <td>Non-orderable AFWA Version 1 data</td>\n",
       "      <td>4</td>\n",
       "      <td>ATMOSPHERE</td>\n",
       "      <td>AFWA</td>\n",
       "      <td>AFWA</td>\n",
       "      <td>MODEL</td>\n",
       "      <td>Y</td>\n",
       "      <td>Y</td>\n",
       "      <td>N</td>\n",
       "      <td>1.0</td>\n",
       "    </tr>\n",
       "    <tr>\n",
       "      <th>23171</th>\n",
       "      <td>LARCATLAS</td>\n",
       "      <td>AFWA_NONORDERABLE_1</td>\n",
       "      <td>Non-orderable AFWA Version 1 data</td>\n",
       "      <td>4</td>\n",
       "      <td>ATMOSPHERE</td>\n",
       "      <td>AFWA</td>\n",
       "      <td>AFWA</td>\n",
       "      <td>MODEL</td>\n",
       "      <td>Y</td>\n",
       "      <td>Y</td>\n",
       "      <td>N</td>\n",
       "      <td>1.0</td>\n",
       "    </tr>\n",
       "  </tbody>\n",
       "</table>\n",
       "</div>"
      ],
      "text/plain": [
       "        Provider              Product                           LongName  \\\n",
       "22630  LARCATLAS  AFWA_NONORDERABLE_1  Non-orderable AFWA Version 1 data   \n",
       "23171  LARCATLAS  AFWA_NONORDERABLE_1  Non-orderable AFWA Version 1 data   \n",
       "\n",
       "      Level  Discipline ProcessingCenter Mission Instrument PrimaryMission  \\\n",
       "22630     4  ATMOSPHERE             AFWA    AFWA      MODEL              Y   \n",
       "23171     4  ATMOSPHERE             AFWA    AFWA      MODEL              Y   \n",
       "\n",
       "      PrimaryInstrument EOSFlag  ProductFlag  \n",
       "22630                 Y       N          1.0  \n",
       "23171                 Y       N          1.0  "
      ]
     },
     "execution_count": 30,
     "metadata": {},
     "output_type": "execute_result"
    }
   ],
   "source": [
    "#exception\n",
    "df_prod.groupby([\"Provider\",\"Product\",\"Instrument\",\"Mission\"]).count().query(\"Level>1\")\n",
    "df_prod.query(\"Provider =='LARCATLAS' and Product =='AFWA_NONORDERABLE_1' and Instrument=='MODEL'\")#.groupby([\"Provider\",\"Product\",\"Instrument\"]).count()"
   ]
  },
  {
   "cell_type": "code",
   "execution_count": 31,
   "id": "25272c61",
   "metadata": {},
   "outputs": [],
   "source": [
    "prov=df_prod.groupby(\"Product\").agg(no_of_providers=(\"Provider\",\"nunique\")).sort_values(\n",
    "    by=[\"no_of_providers\"],ascending=False)"
   ]
  },
  {
   "cell_type": "markdown",
   "id": "51a96ef2",
   "metadata": {},
   "source": [
    "### 21% of the products have more than one providers"
   ]
  },
  {
   "cell_type": "code",
   "execution_count": 32,
   "id": "f85aae6d",
   "metadata": {},
   "outputs": [
    {
     "data": {
      "text/plain": [
       "no_of_providers    0.214058\n",
       "dtype: float64"
      ]
     },
     "execution_count": 32,
     "metadata": {},
     "output_type": "execute_result"
    }
   ],
   "source": [
    "prov.query(\"no_of_providers>1\").count()/prov.count()"
   ]
  },
  {
   "cell_type": "markdown",
   "id": "5fd12b77",
   "metadata": {},
   "source": [
    "### Frequency distribution of num of providers of products that have more than one providers"
   ]
  },
  {
   "cell_type": "code",
   "execution_count": 115,
   "id": "bc463367",
   "metadata": {},
   "outputs": [
    {
     "data": {
      "image/png": "[encoded data removed]",
      "text/plain": [
       "<Figure size 864x360 with 1 Axes>"
      ]
     },
     "metadata": {
      "needs_background": "light"
     },
     "output_type": "display_data"
    }
   ],
   "source": [
    "prov.query(\"no_of_providers>1\")['no_of_providers'].plot(kind='hist', bins=100,\n",
    "                        figsize=(12,5), title=\"Distribution of no_of_providers for products having more than on enumber of providers\")\n",
    "plt.show()"
   ]
  },
  {
   "cell_type": "code",
   "execution_count": 117,
   "id": "57f3913d",
   "metadata": {},
   "outputs": [],
   "source": [
    "tp_10__=df_prod.groupby(\"Provider\").agg(unique_products=(\"Product\",\"nunique\"),\n",
    "                               total_products = (\"Product\",\"count\")).sort_values(\n",
    "    by=[\"total_products\",\"unique_products\"],ascending=False)"
   ]
  },
  {
   "cell_type": "code",
   "execution_count": 118,
   "id": "e2fa7387",
   "metadata": {},
   "outputs": [
    {
     "data": {
      "image/png": "[encoded data removed]",
      "text/plain": [
       "<Figure size 864x360 with 1 Axes>"
      ]
     },
     "metadata": {
      "needs_background": "light"
     },
     "output_type": "display_data"
    }
   ],
   "source": [
    "tp_10__[:10].plot(kind=\"bar\", title=\"Providers vs Products\", figsize=(12,5))\n",
    "plt.show()"
   ]
  },
  {
   "cell_type": "code",
   "execution_count": 36,
   "id": "0bdaa70b",
   "metadata": {},
   "outputs": [],
   "source": [
    "# taking all the unique products into a df\n",
    "prod= df_prod.groupby([\"Product\",\"Provider\",\"Instrument\",\"Mission\"]).agg(discipline=(\"Discipline\",\"first\")).reset_index()\n",
    "#prod[\"discipline\"]= prod[\"discipline\"].apply(lambda x: str(x).split(';'))\n",
    "#prod['no_of_disciplines']= prod[\"discipline\"].apply(lambda x: len(set(x)))"
   ]
  },
  {
   "cell_type": "code",
   "execution_count": 119,
   "id": "2e611f5d",
   "metadata": {},
   "outputs": [
    {
     "data": {
      "text/html": [
       "<div>\n",
       "<style scoped>\n",
       "    .dataframe tbody tr th:only-of-type {\n",
       "        vertical-align: middle;\n",
       "    }\n",
       "\n",
       "    .dataframe tbody tr th {\n",
       "        vertical-align: top;\n",
       "    }\n",
       "\n",
       "    .dataframe thead th {\n",
       "        text-align: right;\n",
       "    }\n",
       "</style>\n",
       "<table border=\"1\" class=\"dataframe\">\n",
       "  <thead>\n",
       "    <tr style=\"text-align: right;\">\n",
       "      <th></th>\n",
       "      <th>Provider</th>\n",
       "      <th>Product</th>\n",
       "      <th>LongName</th>\n",
       "      <th>Level</th>\n",
       "      <th>Discipline</th>\n",
       "      <th>ProcessingCenter</th>\n",
       "      <th>Mission</th>\n",
       "      <th>Instrument</th>\n",
       "      <th>PrimaryMission</th>\n",
       "      <th>PrimaryInstrument</th>\n",
       "      <th>EOSFlag</th>\n",
       "      <th>ProductFlag</th>\n",
       "    </tr>\n",
       "  </thead>\n",
       "  <tbody>\n",
       "    <tr>\n",
       "      <th>0</th>\n",
       "      <td>AMSR2NRT</td>\n",
       "      <td>A2_DYSNO_NRT</td>\n",
       "      <td>NRT AMSR2 DAILY L3 GLOBAL SNOW WATER EQUIVALEN...</td>\n",
       "      <td>3</td>\n",
       "      <td>TERRESTRIAL HYDROSPHERE</td>\n",
       "      <td>AMSR2NRT</td>\n",
       "      <td>LANCE</td>\n",
       "      <td>AMSR2</td>\n",
       "      <td>Y</td>\n",
       "      <td>Y</td>\n",
       "      <td>N</td>\n",
       "      <td>1.0</td>\n",
       "    </tr>\n",
       "    <tr>\n",
       "      <th>1</th>\n",
       "      <td>AMSR2NRT</td>\n",
       "      <td>A2_GEOS5</td>\n",
       "      <td>GEOS-FP-IT Analysis and Forecast Products</td>\n",
       "      <td>2</td>\n",
       "      <td>ATMOSPHERE</td>\n",
       "      <td>AMSR2NRT</td>\n",
       "      <td>LANCE</td>\n",
       "      <td>COMPUTER</td>\n",
       "      <td>Y</td>\n",
       "      <td>Y</td>\n",
       "      <td>N</td>\n",
       "      <td>1.0</td>\n",
       "    </tr>\n",
       "    <tr>\n",
       "      <th>2</th>\n",
       "      <td>AMSR2NRT</td>\n",
       "      <td>A2_L1R</td>\n",
       "      <td>JAXA NRT L1R</td>\n",
       "      <td>0</td>\n",
       "      <td>SPECTRAL/ENGINEERING</td>\n",
       "      <td>AMSR2NRT</td>\n",
       "      <td>LANCE</td>\n",
       "      <td>AMSR2</td>\n",
       "      <td>Y</td>\n",
       "      <td>Y</td>\n",
       "      <td>N</td>\n",
       "      <td>1.0</td>\n",
       "    </tr>\n",
       "    <tr>\n",
       "      <th>3</th>\n",
       "      <td>AMSR2NRT</td>\n",
       "      <td>A2_LAND_NRT</td>\n",
       "      <td>NRT AMSR2 UNIFIED L2B HALF-ORBIT 25 KM EASE-GR...</td>\n",
       "      <td>2</td>\n",
       "      <td>LAND SURFACE</td>\n",
       "      <td>AMSR2NRT</td>\n",
       "      <td>LANCE</td>\n",
       "      <td>AMSR2</td>\n",
       "      <td>Y</td>\n",
       "      <td>Y</td>\n",
       "      <td>N</td>\n",
       "      <td>1.0</td>\n",
       "    </tr>\n",
       "    <tr>\n",
       "      <th>4</th>\n",
       "      <td>AMSR2NRT</td>\n",
       "      <td>A2_RAINOCN_NRT</td>\n",
       "      <td>NRT AMSR2 L2B GLOBAL SWATH GSFC PROFILING ALGO...</td>\n",
       "      <td>2</td>\n",
       "      <td>ATMOSPHERE</td>\n",
       "      <td>AMSR2NRT</td>\n",
       "      <td>LANCE</td>\n",
       "      <td>AMSR2</td>\n",
       "      <td>Y</td>\n",
       "      <td>Y</td>\n",
       "      <td>N</td>\n",
       "      <td>1.0</td>\n",
       "    </tr>\n",
       "    <tr>\n",
       "      <th>...</th>\n",
       "      <td>...</td>\n",
       "      <td>...</td>\n",
       "      <td>...</td>\n",
       "      <td>...</td>\n",
       "      <td>...</td>\n",
       "      <td>...</td>\n",
       "      <td>...</td>\n",
       "      <td>...</td>\n",
       "      <td>...</td>\n",
       "      <td>...</td>\n",
       "      <td>...</td>\n",
       "      <td>...</td>\n",
       "    </tr>\n",
       "    <tr>\n",
       "      <th>56189</th>\n",
       "      <td>SEDAC</td>\n",
       "      <td>CIESIN:95</td>\n",
       "      <td>Indicators of Coastal Water Quality: Change in...</td>\n",
       "      <td>4</td>\n",
       "      <td>SUSTAINABILITY</td>\n",
       "      <td>SEDAC</td>\n",
       "      <td>ES</td>\n",
       "      <td>NaN</td>\n",
       "      <td>Y</td>\n",
       "      <td>Y</td>\n",
       "      <td>E</td>\n",
       "      <td>1.0</td>\n",
       "    </tr>\n",
       "    <tr>\n",
       "      <th>56190</th>\n",
       "      <td>SEDAC</td>\n",
       "      <td>CIESIN:96</td>\n",
       "      <td>Indicators of Coastal Water Quality: Change in...</td>\n",
       "      <td>4</td>\n",
       "      <td>SUSTAINABILITY</td>\n",
       "      <td>SEDAC</td>\n",
       "      <td>ES</td>\n",
       "      <td>NaN</td>\n",
       "      <td>Y</td>\n",
       "      <td>Y</td>\n",
       "      <td>E</td>\n",
       "      <td>1.0</td>\n",
       "    </tr>\n",
       "    <tr>\n",
       "      <th>56191</th>\n",
       "      <td>SEDAC</td>\n",
       "      <td>CIESIN:97</td>\n",
       "      <td>Indicators of Coastal Water Quality: Change in...</td>\n",
       "      <td>4</td>\n",
       "      <td>SUSTAINABILITY</td>\n",
       "      <td>SEDAC</td>\n",
       "      <td>ES</td>\n",
       "      <td>NaN</td>\n",
       "      <td>Y</td>\n",
       "      <td>Y</td>\n",
       "      <td>E</td>\n",
       "      <td>1.0</td>\n",
       "    </tr>\n",
       "    <tr>\n",
       "      <th>56192</th>\n",
       "      <td>SEDAC</td>\n",
       "      <td>CIESIN:98</td>\n",
       "      <td>Indicators of Coastal Water Quality: Change in...</td>\n",
       "      <td>4</td>\n",
       "      <td>SUSTAINABILITY</td>\n",
       "      <td>SEDAC</td>\n",
       "      <td>ES</td>\n",
       "      <td>NaN</td>\n",
       "      <td>Y</td>\n",
       "      <td>Y</td>\n",
       "      <td>E</td>\n",
       "      <td>1.0</td>\n",
       "    </tr>\n",
       "    <tr>\n",
       "      <th>56193</th>\n",
       "      <td>SEDAC</td>\n",
       "      <td>CIESIN:99</td>\n",
       "      <td>Indicators of Coastal Water Quality: Change in...</td>\n",
       "      <td>4</td>\n",
       "      <td>SUSTAINABILITY</td>\n",
       "      <td>SEDAC</td>\n",
       "      <td>ES</td>\n",
       "      <td>NaN</td>\n",
       "      <td>Y</td>\n",
       "      <td>Y</td>\n",
       "      <td>E</td>\n",
       "      <td>1.0</td>\n",
       "    </tr>\n",
       "  </tbody>\n",
       "</table>\n",
       "<p>56194 rows × 12 columns</p>\n",
       "</div>"
      ],
      "text/plain": [
       "       Provider         Product  \\\n",
       "0      AMSR2NRT    A2_DYSNO_NRT   \n",
       "1      AMSR2NRT        A2_GEOS5   \n",
       "2      AMSR2NRT          A2_L1R   \n",
       "3      AMSR2NRT     A2_LAND_NRT   \n",
       "4      AMSR2NRT  A2_RAINOCN_NRT   \n",
       "...         ...             ...   \n",
       "56189     SEDAC       CIESIN:95   \n",
       "56190     SEDAC       CIESIN:96   \n",
       "56191     SEDAC       CIESIN:97   \n",
       "56192     SEDAC       CIESIN:98   \n",
       "56193     SEDAC       CIESIN:99   \n",
       "\n",
       "                                                LongName Level  \\\n",
       "0      NRT AMSR2 DAILY L3 GLOBAL SNOW WATER EQUIVALEN...     3   \n",
       "1              GEOS-FP-IT Analysis and Forecast Products     2   \n",
       "2                                           JAXA NRT L1R     0   \n",
       "3      NRT AMSR2 UNIFIED L2B HALF-ORBIT 25 KM EASE-GR...     2   \n",
       "4      NRT AMSR2 L2B GLOBAL SWATH GSFC PROFILING ALGO...     2   \n",
       "...                                                  ...   ...   \n",
       "56189  Indicators of Coastal Water Quality: Change in...     4   \n",
       "56190  Indicators of Coastal Water Quality: Change in...     4   \n",
       "56191  Indicators of Coastal Water Quality: Change in...     4   \n",
       "56192  Indicators of Coastal Water Quality: Change in...     4   \n",
       "56193  Indicators of Coastal Water Quality: Change in...     4   \n",
       "\n",
       "                    Discipline ProcessingCenter Mission Instrument  \\\n",
       "0      TERRESTRIAL HYDROSPHERE         AMSR2NRT   LANCE      AMSR2   \n",
       "1                   ATMOSPHERE         AMSR2NRT   LANCE   COMPUTER   \n",
       "2         SPECTRAL/ENGINEERING         AMSR2NRT   LANCE      AMSR2   \n",
       "3                 LAND SURFACE         AMSR2NRT   LANCE      AMSR2   \n",
       "4                   ATMOSPHERE         AMSR2NRT   LANCE      AMSR2   \n",
       "...                        ...              ...     ...        ...   \n",
       "56189           SUSTAINABILITY            SEDAC      ES        NaN   \n",
       "56190           SUSTAINABILITY            SEDAC      ES        NaN   \n",
       "56191           SUSTAINABILITY            SEDAC      ES        NaN   \n",
       "56192           SUSTAINABILITY            SEDAC      ES        NaN   \n",
       "56193           SUSTAINABILITY            SEDAC      ES        NaN   \n",
       "\n",
       "      PrimaryMission PrimaryInstrument EOSFlag  ProductFlag  \n",
       "0                  Y                 Y       N          1.0  \n",
       "1                  Y                 Y       N          1.0  \n",
       "2                  Y                 Y       N          1.0  \n",
       "3                  Y                 Y       N          1.0  \n",
       "4                  Y                 Y       N          1.0  \n",
       "...              ...               ...     ...          ...  \n",
       "56189              Y                 Y       E          1.0  \n",
       "56190              Y                 Y       E          1.0  \n",
       "56191              Y                 Y       E          1.0  \n",
       "56192              Y                 Y       E          1.0  \n",
       "56193              Y                 Y       E          1.0  \n",
       "\n",
       "[56194 rows x 12 columns]"
      ]
     },
     "execution_count": 119,
     "metadata": {},
     "output_type": "execute_result"
    }
   ],
   "source": [
    "df_prod"
   ]
  },
  {
   "cell_type": "code",
   "execution_count": 140,
   "id": "a1492817",
   "metadata": {},
   "outputs": [],
   "source": [
    "# df_prod_vol=df_ar.groupby(\"Product\").agg(volumeMB=(\"MBs\",\"sum\"),\n",
    "#                            volumeFiles=(\"Granules/Files\",\"sum\"))\n",
    "# df_prod_vol= df_prod_vol.reset_index()"
   ]
  },
  {
   "cell_type": "code",
   "execution_count": 37,
   "id": "ab7d1b19",
   "metadata": {},
   "outputs": [],
   "source": [
    "dfq1=pd.merge(prod,df_ar, on=[\"Product\",\"Provider\",\"Mission\",\"Instrument\"],how=\"inner\")\n"
   ]
  },
  {
   "cell_type": "code",
   "execution_count": 120,
   "id": "1cb67b3d",
   "metadata": {},
   "outputs": [
    {
     "data": {
      "text/html": [
       "<div>\n",
       "<style scoped>\n",
       "    .dataframe tbody tr th:only-of-type {\n",
       "        vertical-align: middle;\n",
       "    }\n",
       "\n",
       "    .dataframe tbody tr th {\n",
       "        vertical-align: top;\n",
       "    }\n",
       "\n",
       "    .dataframe thead th {\n",
       "        text-align: right;\n",
       "    }\n",
       "</style>\n",
       "<table border=\"1\" class=\"dataframe\">\n",
       "  <thead>\n",
       "    <tr style=\"text-align: right;\">\n",
       "      <th></th>\n",
       "      <th>Product</th>\n",
       "      <th>Provider</th>\n",
       "      <th>Instrument</th>\n",
       "      <th>Mission</th>\n",
       "      <th>discipline</th>\n",
       "      <th>Version</th>\n",
       "      <th>Level</th>\n",
       "      <th>Date</th>\n",
       "      <th>MBs</th>\n",
       "      <th>Granules/Files</th>\n",
       "      <th>disciplineq</th>\n",
       "    </tr>\n",
       "  </thead>\n",
       "  <tbody>\n",
       "    <tr>\n",
       "      <th>0</th>\n",
       "      <td>035</td>\n",
       "      <td>PODAAC</td>\n",
       "      <td>TOPEX ALTIMETER</td>\n",
       "      <td>TOPEX/POSEIDON</td>\n",
       "      <td>[OCEAN, ]</td>\n",
       "      <td>NaN</td>\n",
       "      <td>2A</td>\n",
       "      <td>2000-01-01 - 2023-03-02</td>\n",
       "      <td>15560.308</td>\n",
       "      <td>3813.0</td>\n",
       "      <td>OCEAN,</td>\n",
       "    </tr>\n",
       "    <tr>\n",
       "      <th>1</th>\n",
       "      <td>103</td>\n",
       "      <td>PODAAC</td>\n",
       "      <td>SEAWINDS SCATTEROMETER</td>\n",
       "      <td>QUIKSCAT</td>\n",
       "      <td>[OCEAN, ]</td>\n",
       "      <td>2.3.</td>\n",
       "      <td>0</td>\n",
       "      <td>2000-01-01 - 2023-03-02</td>\n",
       "      <td>4909.694</td>\n",
       "      <td>520.0</td>\n",
       "      <td>OCEAN,</td>\n",
       "    </tr>\n",
       "    <tr>\n",
       "      <th>2</th>\n",
       "      <td>103</td>\n",
       "      <td>PODAAC</td>\n",
       "      <td>SEAWINDS SCATTEROMETER</td>\n",
       "      <td>QUIKSCAT</td>\n",
       "      <td>[OCEAN, ]</td>\n",
       "      <td>2.3.2.3/20</td>\n",
       "      <td>0</td>\n",
       "      <td>2000-01-01 - 2023-03-02</td>\n",
       "      <td>262971.071</td>\n",
       "      <td>26887.0</td>\n",
       "      <td>OCEAN,</td>\n",
       "    </tr>\n",
       "    <tr>\n",
       "      <th>3</th>\n",
       "      <td>103</td>\n",
       "      <td>PODAAC</td>\n",
       "      <td>SEAWINDS SCATTEROMETER</td>\n",
       "      <td>QUIKSCAT</td>\n",
       "      <td>[OCEAN, ]</td>\n",
       "      <td>2.4.1/2004</td>\n",
       "      <td>0</td>\n",
       "      <td>2000-01-01 - 2023-03-02</td>\n",
       "      <td>58732.575</td>\n",
       "      <td>7653.0</td>\n",
       "      <td>OCEAN,</td>\n",
       "    </tr>\n",
       "    <tr>\n",
       "      <th>4</th>\n",
       "      <td>103</td>\n",
       "      <td>PODAAC</td>\n",
       "      <td>SEAWINDS SCATTEROMETER</td>\n",
       "      <td>QUIKSCAT</td>\n",
       "      <td>[OCEAN, ]</td>\n",
       "      <td>2.4.2/2004</td>\n",
       "      <td>0</td>\n",
       "      <td>2000-01-01 - 2023-03-02</td>\n",
       "      <td>43439.432</td>\n",
       "      <td>5213.0</td>\n",
       "      <td>OCEAN,</td>\n",
       "    </tr>\n",
       "    <tr>\n",
       "      <th>...</th>\n",
       "      <td>...</td>\n",
       "      <td>...</td>\n",
       "      <td>...</td>\n",
       "      <td>...</td>\n",
       "      <td>...</td>\n",
       "      <td>...</td>\n",
       "      <td>...</td>\n",
       "      <td>...</td>\n",
       "      <td>...</td>\n",
       "      <td>...</td>\n",
       "      <td>...</td>\n",
       "    </tr>\n",
       "    <tr>\n",
       "      <th>27301</th>\n",
       "      <td>YOUNG_RUSSIAN_FOREST_MAP_1330</td>\n",
       "      <td>ORNL</td>\n",
       "      <td>MODIS</td>\n",
       "      <td>AQUA</td>\n",
       "      <td>[BIOSPHERE, ]</td>\n",
       "      <td>1</td>\n",
       "      <td>3</td>\n",
       "      <td>2000-01-01 - 2023-03-02</td>\n",
       "      <td>17.627</td>\n",
       "      <td>3.0</td>\n",
       "      <td>BIOSPHERE,</td>\n",
       "    </tr>\n",
       "    <tr>\n",
       "      <th>27302</th>\n",
       "      <td>ZINKESOIL_221</td>\n",
       "      <td>ORNL</td>\n",
       "      <td>BALANCE</td>\n",
       "      <td>FIELD SURVEYS</td>\n",
       "      <td>[LAND, SURFACE, ]</td>\n",
       "      <td>1</td>\n",
       "      <td>3</td>\n",
       "      <td>2000-01-01 - 2023-03-02</td>\n",
       "      <td>0.512</td>\n",
       "      <td>4.0</td>\n",
       "      <td>LAND,SURFACE,</td>\n",
       "    </tr>\n",
       "    <tr>\n",
       "      <th>27303</th>\n",
       "      <td>ZINKESOIL_221</td>\n",
       "      <td>ORNLCLOUD</td>\n",
       "      <td>BALANCE</td>\n",
       "      <td>FIELD SURVEYS</td>\n",
       "      <td>[LAND, SURFACE, ]</td>\n",
       "      <td>1</td>\n",
       "      <td>3</td>\n",
       "      <td>2000-01-01 - 2023-03-02</td>\n",
       "      <td>0.425</td>\n",
       "      <td>2.0</td>\n",
       "      <td>LAND,SURFACE,</td>\n",
       "    </tr>\n",
       "    <tr>\n",
       "      <th>27304</th>\n",
       "      <td>ZOBLERSOILDERIVED_540</td>\n",
       "      <td>ORNLCLOUD</td>\n",
       "      <td>NOT APPLICABLE</td>\n",
       "      <td>NOT APPLICABLE</td>\n",
       "      <td>[LAND, SURFACE, ]</td>\n",
       "      <td>1</td>\n",
       "      <td>3</td>\n",
       "      <td>2000-01-01 - 2023-03-02</td>\n",
       "      <td>10.206</td>\n",
       "      <td>5.0</td>\n",
       "      <td>LAND,SURFACE,</td>\n",
       "    </tr>\n",
       "    <tr>\n",
       "      <th>27305</th>\n",
       "      <td>ZOBLERSOIL_418</td>\n",
       "      <td>ORNLCLOUD</td>\n",
       "      <td>NOT APPLICABLE</td>\n",
       "      <td>NOT APPLICABLE</td>\n",
       "      <td>[LAND, SURFACE, ]</td>\n",
       "      <td>1</td>\n",
       "      <td>3</td>\n",
       "      <td>2000-01-01 - 2023-03-02</td>\n",
       "      <td>0.968</td>\n",
       "      <td>3.0</td>\n",
       "      <td>LAND,SURFACE,</td>\n",
       "    </tr>\n",
       "  </tbody>\n",
       "</table>\n",
       "<p>27306 rows × 11 columns</p>\n",
       "</div>"
      ],
      "text/plain": [
       "                             Product   Provider              Instrument  \\\n",
       "0                                035     PODAAC         TOPEX ALTIMETER   \n",
       "1                                103     PODAAC  SEAWINDS SCATTEROMETER   \n",
       "2                                103     PODAAC  SEAWINDS SCATTEROMETER   \n",
       "3                                103     PODAAC  SEAWINDS SCATTEROMETER   \n",
       "4                                103     PODAAC  SEAWINDS SCATTEROMETER   \n",
       "...                              ...        ...                     ...   \n",
       "27301  YOUNG_RUSSIAN_FOREST_MAP_1330       ORNL                   MODIS   \n",
       "27302                  ZINKESOIL_221       ORNL                 BALANCE   \n",
       "27303                  ZINKESOIL_221  ORNLCLOUD                 BALANCE   \n",
       "27304          ZOBLERSOILDERIVED_540  ORNLCLOUD          NOT APPLICABLE   \n",
       "27305                 ZOBLERSOIL_418  ORNLCLOUD          NOT APPLICABLE   \n",
       "\n",
       "              Mission         discipline     Version Level  \\\n",
       "0      TOPEX/POSEIDON          [OCEAN, ]         NaN    2A   \n",
       "1            QUIKSCAT          [OCEAN, ]        2.3.     0   \n",
       "2            QUIKSCAT          [OCEAN, ]  2.3.2.3/20     0   \n",
       "3            QUIKSCAT          [OCEAN, ]  2.4.1/2004     0   \n",
       "4            QUIKSCAT          [OCEAN, ]  2.4.2/2004     0   \n",
       "...               ...                ...         ...   ...   \n",
       "27301            AQUA      [BIOSPHERE, ]           1     3   \n",
       "27302   FIELD SURVEYS  [LAND, SURFACE, ]           1     3   \n",
       "27303   FIELD SURVEYS  [LAND, SURFACE, ]           1     3   \n",
       "27304  NOT APPLICABLE  [LAND, SURFACE, ]           1     3   \n",
       "27305  NOT APPLICABLE  [LAND, SURFACE, ]           1     3   \n",
       "\n",
       "                          Date         MBs  Granules/Files    disciplineq  \n",
       "0      2000-01-01 - 2023-03-02   15560.308          3813.0         OCEAN,  \n",
       "1      2000-01-01 - 2023-03-02    4909.694           520.0         OCEAN,  \n",
       "2      2000-01-01 - 2023-03-02  262971.071         26887.0         OCEAN,  \n",
       "3      2000-01-01 - 2023-03-02   58732.575          7653.0         OCEAN,  \n",
       "4      2000-01-01 - 2023-03-02   43439.432          5213.0         OCEAN,  \n",
       "...                        ...         ...             ...            ...  \n",
       "27301  2000-01-01 - 2023-03-02      17.627             3.0     BIOSPHERE,  \n",
       "27302  2000-01-01 - 2023-03-02       0.512             4.0  LAND,SURFACE,  \n",
       "27303  2000-01-01 - 2023-03-02       0.425             2.0  LAND,SURFACE,  \n",
       "27304  2000-01-01 - 2023-03-02      10.206             5.0  LAND,SURFACE,  \n",
       "27305  2000-01-01 - 2023-03-02       0.968             3.0  LAND,SURFACE,  \n",
       "\n",
       "[27306 rows x 11 columns]"
      ]
     },
     "execution_count": 120,
     "metadata": {},
     "output_type": "execute_result"
    }
   ],
   "source": [
    "dfq1"
   ]
  },
  {
   "cell_type": "code",
   "execution_count": 64,
   "id": "d21adb77",
   "metadata": {},
   "outputs": [],
   "source": [
    "dfq1[\"disciplineq\"]=dfq1[\"discipline\"].apply(lambda x: str(x)+\" \")\n",
    "dfq1[\"disciplineq\"]=dfq1[\"disciplineq\"].apply(lambda x: x.replace(\";\",\" \"))\n",
    "dfq1[\"disciplineq\"]=dfq1[\"disciplineq\"].apply(lambda x: x.replace(\",\",\" \"))\n",
    "dfq1[\"disciplineq\"]=dfq1[\"disciplineq\"].apply(lambda x: x.replace(\" \",\",\"))\n",
    "dfq1[\"discipline\"]= dfq1[\"disciplineq\"].apply(lambda x: str(x).split(','))"
   ]
  },
  {
   "cell_type": "code",
   "execution_count": 74,
   "id": "d5967856",
   "metadata": {},
   "outputs": [],
   "source": [
    "from collections import Counter\n",
    "d=Counter(str(dfq1.disciplineq.sum()).split(\",\"))\n"
   ]
  },
  {
   "cell_type": "code",
   "execution_count": 149,
   "id": "026d796a",
   "metadata": {},
   "outputs": [
    {
     "data": {
      "text/html": [
       "<div>\n",
       "<style scoped>\n",
       "    .dataframe tbody tr th:only-of-type {\n",
       "        vertical-align: middle;\n",
       "    }\n",
       "\n",
       "    .dataframe tbody tr th {\n",
       "        vertical-align: top;\n",
       "    }\n",
       "\n",
       "    .dataframe thead th {\n",
       "        text-align: right;\n",
       "    }\n",
       "</style>\n",
       "<table border=\"1\" class=\"dataframe\">\n",
       "  <thead>\n",
       "    <tr style=\"text-align: right;\">\n",
       "      <th></th>\n",
       "      <th>Product</th>\n",
       "      <th>Provider</th>\n",
       "      <th>Instrument</th>\n",
       "      <th>Mission</th>\n",
       "      <th>discipline</th>\n",
       "      <th>Version</th>\n",
       "      <th>Level</th>\n",
       "      <th>Date</th>\n",
       "      <th>MBs</th>\n",
       "      <th>Granules/Files</th>\n",
       "      <th>disciplineq</th>\n",
       "    </tr>\n",
       "  </thead>\n",
       "  <tbody>\n",
       "    <tr>\n",
       "      <th>0</th>\n",
       "      <td>035</td>\n",
       "      <td>PODAAC</td>\n",
       "      <td>TOPEX ALTIMETER</td>\n",
       "      <td>TOPEX/POSEIDON</td>\n",
       "      <td>[OCEAN, ]</td>\n",
       "      <td>NaN</td>\n",
       "      <td>2A</td>\n",
       "      <td>2000-01-01 - 2023-03-02</td>\n",
       "      <td>15560.308</td>\n",
       "      <td>3813.0</td>\n",
       "      <td>OCEAN,</td>\n",
       "    </tr>\n",
       "    <tr>\n",
       "      <th>1</th>\n",
       "      <td>103</td>\n",
       "      <td>PODAAC</td>\n",
       "      <td>SEAWINDS SCATTEROMETER</td>\n",
       "      <td>QUIKSCAT</td>\n",
       "      <td>[OCEAN, ]</td>\n",
       "      <td>2.3.</td>\n",
       "      <td>0</td>\n",
       "      <td>2000-01-01 - 2023-03-02</td>\n",
       "      <td>4909.694</td>\n",
       "      <td>520.0</td>\n",
       "      <td>OCEAN,</td>\n",
       "    </tr>\n",
       "    <tr>\n",
       "      <th>2</th>\n",
       "      <td>103</td>\n",
       "      <td>PODAAC</td>\n",
       "      <td>SEAWINDS SCATTEROMETER</td>\n",
       "      <td>QUIKSCAT</td>\n",
       "      <td>[OCEAN, ]</td>\n",
       "      <td>2.3.2.3/20</td>\n",
       "      <td>0</td>\n",
       "      <td>2000-01-01 - 2023-03-02</td>\n",
       "      <td>262971.071</td>\n",
       "      <td>26887.0</td>\n",
       "      <td>OCEAN,</td>\n",
       "    </tr>\n",
       "    <tr>\n",
       "      <th>3</th>\n",
       "      <td>103</td>\n",
       "      <td>PODAAC</td>\n",
       "      <td>SEAWINDS SCATTEROMETER</td>\n",
       "      <td>QUIKSCAT</td>\n",
       "      <td>[OCEAN, ]</td>\n",
       "      <td>2.4.1/2004</td>\n",
       "      <td>0</td>\n",
       "      <td>2000-01-01 - 2023-03-02</td>\n",
       "      <td>58732.575</td>\n",
       "      <td>7653.0</td>\n",
       "      <td>OCEAN,</td>\n",
       "    </tr>\n",
       "    <tr>\n",
       "      <th>4</th>\n",
       "      <td>103</td>\n",
       "      <td>PODAAC</td>\n",
       "      <td>SEAWINDS SCATTEROMETER</td>\n",
       "      <td>QUIKSCAT</td>\n",
       "      <td>[OCEAN, ]</td>\n",
       "      <td>2.4.2/2004</td>\n",
       "      <td>0</td>\n",
       "      <td>2000-01-01 - 2023-03-02</td>\n",
       "      <td>43439.432</td>\n",
       "      <td>5213.0</td>\n",
       "      <td>OCEAN,</td>\n",
       "    </tr>\n",
       "    <tr>\n",
       "      <th>...</th>\n",
       "      <td>...</td>\n",
       "      <td>...</td>\n",
       "      <td>...</td>\n",
       "      <td>...</td>\n",
       "      <td>...</td>\n",
       "      <td>...</td>\n",
       "      <td>...</td>\n",
       "      <td>...</td>\n",
       "      <td>...</td>\n",
       "      <td>...</td>\n",
       "      <td>...</td>\n",
       "    </tr>\n",
       "    <tr>\n",
       "      <th>27301</th>\n",
       "      <td>YOUNG_RUSSIAN_FOREST_MAP_1330</td>\n",
       "      <td>ORNL</td>\n",
       "      <td>MODIS</td>\n",
       "      <td>AQUA</td>\n",
       "      <td>[BIOSPHERE, ]</td>\n",
       "      <td>1</td>\n",
       "      <td>3</td>\n",
       "      <td>2000-01-01 - 2023-03-02</td>\n",
       "      <td>17.627</td>\n",
       "      <td>3.0</td>\n",
       "      <td>BIOSPHERE,</td>\n",
       "    </tr>\n",
       "    <tr>\n",
       "      <th>27302</th>\n",
       "      <td>ZINKESOIL_221</td>\n",
       "      <td>ORNL</td>\n",
       "      <td>BALANCE</td>\n",
       "      <td>FIELD SURVEYS</td>\n",
       "      <td>[LAND, SURFACE, ]</td>\n",
       "      <td>1</td>\n",
       "      <td>3</td>\n",
       "      <td>2000-01-01 - 2023-03-02</td>\n",
       "      <td>0.512</td>\n",
       "      <td>4.0</td>\n",
       "      <td>LAND,SURFACE,</td>\n",
       "    </tr>\n",
       "    <tr>\n",
       "      <th>27303</th>\n",
       "      <td>ZINKESOIL_221</td>\n",
       "      <td>ORNLCLOUD</td>\n",
       "      <td>BALANCE</td>\n",
       "      <td>FIELD SURVEYS</td>\n",
       "      <td>[LAND, SURFACE, ]</td>\n",
       "      <td>1</td>\n",
       "      <td>3</td>\n",
       "      <td>2000-01-01 - 2023-03-02</td>\n",
       "      <td>0.425</td>\n",
       "      <td>2.0</td>\n",
       "      <td>LAND,SURFACE,</td>\n",
       "    </tr>\n",
       "    <tr>\n",
       "      <th>27304</th>\n",
       "      <td>ZOBLERSOILDERIVED_540</td>\n",
       "      <td>ORNLCLOUD</td>\n",
       "      <td>NOT APPLICABLE</td>\n",
       "      <td>NOT APPLICABLE</td>\n",
       "      <td>[LAND, SURFACE, ]</td>\n",
       "      <td>1</td>\n",
       "      <td>3</td>\n",
       "      <td>2000-01-01 - 2023-03-02</td>\n",
       "      <td>10.206</td>\n",
       "      <td>5.0</td>\n",
       "      <td>LAND,SURFACE,</td>\n",
       "    </tr>\n",
       "    <tr>\n",
       "      <th>27305</th>\n",
       "      <td>ZOBLERSOIL_418</td>\n",
       "      <td>ORNLCLOUD</td>\n",
       "      <td>NOT APPLICABLE</td>\n",
       "      <td>NOT APPLICABLE</td>\n",
       "      <td>[LAND, SURFACE, ]</td>\n",
       "      <td>1</td>\n",
       "      <td>3</td>\n",
       "      <td>2000-01-01 - 2023-03-02</td>\n",
       "      <td>0.968</td>\n",
       "      <td>3.0</td>\n",
       "      <td>LAND,SURFACE,</td>\n",
       "    </tr>\n",
       "  </tbody>\n",
       "</table>\n",
       "<p>27306 rows × 11 columns</p>\n",
       "</div>"
      ],
      "text/plain": [
       "                             Product   Provider              Instrument  \\\n",
       "0                                035     PODAAC         TOPEX ALTIMETER   \n",
       "1                                103     PODAAC  SEAWINDS SCATTEROMETER   \n",
       "2                                103     PODAAC  SEAWINDS SCATTEROMETER   \n",
       "3                                103     PODAAC  SEAWINDS SCATTEROMETER   \n",
       "4                                103     PODAAC  SEAWINDS SCATTEROMETER   \n",
       "...                              ...        ...                     ...   \n",
       "27301  YOUNG_RUSSIAN_FOREST_MAP_1330       ORNL                   MODIS   \n",
       "27302                  ZINKESOIL_221       ORNL                 BALANCE   \n",
       "27303                  ZINKESOIL_221  ORNLCLOUD                 BALANCE   \n",
       "27304          ZOBLERSOILDERIVED_540  ORNLCLOUD          NOT APPLICABLE   \n",
       "27305                 ZOBLERSOIL_418  ORNLCLOUD          NOT APPLICABLE   \n",
       "\n",
       "              Mission         discipline     Version Level  \\\n",
       "0      TOPEX/POSEIDON          [OCEAN, ]         NaN    2A   \n",
       "1            QUIKSCAT          [OCEAN, ]        2.3.     0   \n",
       "2            QUIKSCAT          [OCEAN, ]  2.3.2.3/20     0   \n",
       "3            QUIKSCAT          [OCEAN, ]  2.4.1/2004     0   \n",
       "4            QUIKSCAT          [OCEAN, ]  2.4.2/2004     0   \n",
       "...               ...                ...         ...   ...   \n",
       "27301            AQUA      [BIOSPHERE, ]           1     3   \n",
       "27302   FIELD SURVEYS  [LAND, SURFACE, ]           1     3   \n",
       "27303   FIELD SURVEYS  [LAND, SURFACE, ]           1     3   \n",
       "27304  NOT APPLICABLE  [LAND, SURFACE, ]           1     3   \n",
       "27305  NOT APPLICABLE  [LAND, SURFACE, ]           1     3   \n",
       "\n",
       "                          Date         MBs  Granules/Files    disciplineq  \n",
       "0      2000-01-01 - 2023-03-02   15560.308          3813.0         OCEAN,  \n",
       "1      2000-01-01 - 2023-03-02    4909.694           520.0         OCEAN,  \n",
       "2      2000-01-01 - 2023-03-02  262971.071         26887.0         OCEAN,  \n",
       "3      2000-01-01 - 2023-03-02   58732.575          7653.0         OCEAN,  \n",
       "4      2000-01-01 - 2023-03-02   43439.432          5213.0         OCEAN,  \n",
       "...                        ...         ...             ...            ...  \n",
       "27301  2000-01-01 - 2023-03-02      17.627             3.0     BIOSPHERE,  \n",
       "27302  2000-01-01 - 2023-03-02       0.512             4.0  LAND,SURFACE,  \n",
       "27303  2000-01-01 - 2023-03-02       0.425             2.0  LAND,SURFACE,  \n",
       "27304  2000-01-01 - 2023-03-02      10.206             5.0  LAND,SURFACE,  \n",
       "27305  2000-01-01 - 2023-03-02       0.968             3.0  LAND,SURFACE,  \n",
       "\n",
       "[27306 rows x 11 columns]"
      ]
     },
     "execution_count": 149,
     "metadata": {},
     "output_type": "execute_result"
    }
   ],
   "source": [
    "dfq1"
   ]
  },
  {
   "cell_type": "code",
   "execution_count": 151,
   "id": "0f64c1c7",
   "metadata": {},
   "outputs": [],
   "source": [
    "dfex = dfq1.explode(\"discipline\")\n",
    "dfex = dfex.query(\"discipline!=''\")"
   ]
  },
  {
   "cell_type": "markdown",
   "id": "453035cb",
   "metadata": {},
   "source": [
    "## What are the top 20 disciplines in terms of volume"
   ]
  },
  {
   "cell_type": "code",
   "execution_count": 158,
   "id": "3fe93890",
   "metadata": {},
   "outputs": [
    {
     "data": {
      "text/plain": [
       "<AxesSubplot:xlabel='discipline'>"
      ]
     },
     "execution_count": 158,
     "metadata": {},
     "output_type": "execute_result"
    },
    {
     "data": {
      "image/png": "[encoded data removed]",
      "text/plain": [
       "<Figure size 864x360 with 1 Axes>"
      ]
     },
     "metadata": {
      "needs_background": "light"
     },
     "output_type": "display_data"
    }
   ],
   "source": [
    "dfex.groupby(\"discipline\").agg(volume=(\"MBs\",\"sum\")).sort_values(\n",
    "    by=\"volume\", ascending=False)[:20].plot(kind=\"bar\", figsize=(12,5),\n",
    "    title=\"Distribution of product volume over different disciplines\")"
   ]
  },
  {
   "cell_type": "markdown",
   "id": "94ab2b72",
   "metadata": {},
   "source": [
    "## What are the top 20 disciplines in terms of products"
   ]
  },
  {
   "cell_type": "code",
   "execution_count": 116,
   "id": "f8384a49",
   "metadata": {},
   "outputs": [
    {
     "data": {
      "text/plain": [
       "<AxesSubplot:title={'center':'Distribution of products over different disciplines'}>"
      ]
     },
     "execution_count": 116,
     "metadata": {},
     "output_type": "execute_result"
    },
    {
     "data": {
      "image/png": "[encoded data removed]",
      "text/plain": [
       "<Figure size 864x360 with 1 Axes>"
      ]
     },
     "metadata": {
      "needs_background": "light"
     },
     "output_type": "display_data"
    }
   ],
   "source": [
    "pd.DataFrame.from_dict(d, orient='index', columns=[\"count\"]).sort_values(\n",
    "    by='count',ascending=False)[:20].plot(kind='bar',figsize=(12,5),\n",
    "                                          title=\"Distribution of products over different disciplines\")"
   ]
  },
  {
   "cell_type": "code",
   "execution_count": null,
   "id": "986f4031",
   "metadata": {},
   "outputs": [],
   "source": []
  },
  {
   "cell_type": "markdown",
   "id": "a14cc503",
   "metadata": {},
   "source": [
    "## What is the distribution of number of disciplines on products?"
   ]
  },
  {
   "cell_type": "code",
   "execution_count": 311,
   "id": "78fa8eda",
   "metadata": {},
   "outputs": [
    {
     "data": {
      "image/png": "[encoded data removed]",
      "text/plain": [
       "<Figure size 720x360 with 1 Axes>"
      ]
     },
     "metadata": {
      "needs_background": "light"
     },
     "output_type": "display_data"
    }
   ],
   "source": [
    "dfq1['no_of_disciplines'].plot(kind=\"hist\", figsize=(10,5), bins=20, title=\"Distribution of number of disciplines in products\")\n",
    "plt.xlabel(\"no_of_disciplines\")\n",
    "plt.ylabel(\"product\")\n",
    "plt.show()"
   ]
  },
  {
   "cell_type": "code",
   "execution_count": null,
   "id": "a416c153",
   "metadata": {},
   "outputs": [],
   "source": []
  }
 ],
 "metadata": {
  "kernelspec": {
   "display_name": "Python 3 (ipykernel)",
   "language": "python",
   "name": "python3"
  },
  "language_info": {
   "codemirror_mode": {
    "name": "ipython",
    "version": 3
   },
   "file_extension": ".py",
   "mimetype": "text/x-python",
   "name": "python",
   "nbconvert_exporter": "python",
   "pygments_lexer": "ipython3",
   "version": "3.9.12"
  },
  "toc": {
   "base_numbering": 1,
   "nav_menu": {},
   "number_sections": true,
   "sideBar": true,
   "skip_h1_title": false,
   "title_cell": "Table of Contents",
   "title_sidebar": "Contents",
   "toc_cell": false,
   "toc_position": {
    "height": "calc(100% - 180px)",
    "left": "10px",
    "top": "150px",
    "width": "383.993px"
   },
   "toc_section_display": true,
   "toc_window_display": true
  }
 },
 "nbformat": 4,
 "nbformat_minor": 5
}
